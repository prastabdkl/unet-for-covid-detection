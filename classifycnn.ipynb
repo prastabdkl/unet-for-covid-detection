{
 "cells": [
  {
   "cell_type": "code",
   "execution_count": 138,
   "metadata": {},
   "outputs": [],
   "source": [
    "from keras.preprocessing.image import ImageDataGenerator\n",
    "from keras.models import Sequential\n",
    "from keras.layers import Conv2D, MaxPooling2D\n",
    "from keras.layers import Activation, Dropout, Flatten, Dense\n",
    "from keras import backend as K\n",
    "from tensorflow.keras import datasets, layers, models\n",
    "import numpy as np\n",
    "import pandas as pd\n",
    "from keras.layers import LeakyReLU\n"
   ]
  },
  {
   "cell_type": "code",
   "execution_count": 139,
   "metadata": {},
   "outputs": [],
   "source": [
    "# img_width, img_height = 512, 512\n",
    "\n",
    "# train_data_dir = r'C:\\Users\\prast\\Downloads\\CS 7000\\Final report\\u-net-code\\unet-for-covid-detection\\dataset\\data_c_vs_nc\\train'\n",
    "# validation_data_dir = r'C:\\Users\\prast\\Downloads\\CS 7000\\Final report\\u-net-code\\unet-for-covid-detection\\dataset\\data_c_vs_nc\\validate'\n",
    "# test_data_dir = r\"C:\\Users\\prast\\Downloads\\CS 7000\\Final report\\u-net-code\\unet-for-covid-detection\\dataset\\data_c_vs_nc\\test\""
   ]
  },
  {
   "cell_type": "code",
   "execution_count": 140,
   "metadata": {},
   "outputs": [],
   "source": [
    "img_width, img_height = 512, 512\n",
    "\n",
    "train_data_dir = r\"C:\\Users\\prast\\Downloads\\CS 7000\\Final report\\u-net-code\\unet-for-covid-detection\\finaldata\\train\"\n",
    "validation_data_dir = r'C:\\Users\\prast\\Downloads\\CS 7000\\Final report\\u-net-code\\unet-for-covid-detection\\finaldata\\val'\n",
    "test_data_dir = r\"C:\\Users\\prast\\Downloads\\CS 7000\\Final report\\u-net-code\\unet-for-covid-detection\\finaldata\\test\""
   ]
  },
  {
   "cell_type": "code",
   "execution_count": 141,
   "metadata": {},
   "outputs": [],
   "source": [
    "nb_train_samples = 204\n",
    "nb_validation_samples = 40\n",
    "num_of_test_samples = 16\n",
    "epochs = 50\n",
    "batch_size = 32"
   ]
  },
  {
   "cell_type": "code",
   "execution_count": 142,
   "metadata": {},
   "outputs": [],
   "source": [
    "if K.image_data_format() == 'channels_first':\n",
    "    input_shape = (1, img_width, img_height)\n",
    "else:\n",
    "    input_shape = (img_width, img_height, 1)"
   ]
  },
  {
   "cell_type": "code",
   "execution_count": 143,
   "metadata": {},
   "outputs": [
    {
     "data": {
      "text/plain": [
       "(512, 512, 1)"
      ]
     },
     "execution_count": 143,
     "metadata": {},
     "output_type": "execute_result"
    }
   ],
   "source": [
    "input_shape"
   ]
  },
  {
   "cell_type": "code",
   "execution_count": 144,
   "metadata": {},
   "outputs": [],
   "source": [
    "# model = Sequential()\n",
    "# model.add(Conv2D(32, (3, 3), input_shape=input_shape))\n",
    "# model.add(Activation('relu'))\n",
    "# model.add(MaxPooling2D(pool_size=(2, 2)))\n",
    "\n",
    "# model.add(Conv2D(32, (3, 3)))\n",
    "# model.add(Activation('relu'))\n",
    "# model.add(MaxPooling2D(pool_size=(2, 2)))\n",
    "\n",
    "# model.add(Conv2D(64, (3, 3)))\n",
    "# model.add(Activation('relu'))\n",
    "# model.add(MaxPooling2D(pool_size=(2, 2)))\n",
    "\n",
    "# model.add(Flatten())\n",
    "# model.add(Dense(64))\n",
    "# model.add(Activation('relu'))\n",
    "# model.add(Dropout(0.5))\n",
    "# model.add(Dense(1))\n",
    "# model.add(Activation('sigmoid'))"
   ]
  },
  {
   "cell_type": "code",
   "execution_count": 145,
   "metadata": {},
   "outputs": [],
   "source": [
    "model = Sequential()\n",
    "model.add(Conv2D(32, (3, 3), input_shape=input_shape))\n",
    "model.add(LeakyReLU(alpha=0.1))\n",
    "# model.add(Activation('relu'))\n",
    "model.add(MaxPooling2D(pool_size=(2, 2)))\n",
    "\n",
    "model.add(Conv2D(32, (3, 3)))\n",
    "model.add(LeakyReLU(alpha=0.1))\n",
    "# model.add(Activation('relu'))\n",
    "model.add(MaxPooling2D(pool_size=(2, 2)))\n",
    "\n",
    "model.add(Conv2D(64, (3, 3)))\n",
    "# model.add(Activation('relu'))\n",
    "model.add(LeakyReLU(alpha=0.1))\n",
    "model.add(MaxPooling2D(pool_size=(2, 2)))\n",
    "\n",
    "model.add(Flatten())\n",
    "model.add(Dense(64))\n",
    "model.add(LeakyReLU(alpha=0.1))\n",
    "# model.add(Activation('relu'))\n",
    "model.add(Dropout(0.5))\n",
    "model.add(Dense(1))\n",
    "model.add(Activation('sigmoid'))"
   ]
  },
  {
   "cell_type": "code",
   "execution_count": 146,
   "metadata": {},
   "outputs": [],
   "source": [
    "#model.summary()"
   ]
  },
  {
   "cell_type": "code",
   "execution_count": 147,
   "metadata": {},
   "outputs": [],
   "source": [
    "model.compile(loss='binary_crossentropy',\n",
    "              optimizer='rmsprop',\n",
    "              metrics=['accuracy'])"
   ]
  },
  {
   "cell_type": "code",
   "execution_count": 148,
   "metadata": {},
   "outputs": [],
   "source": [
    "train_datagen = ImageDataGenerator(\n",
    "    rescale=1. / 255,\n",
    "    shear_range=0.2,\n",
    "    zoom_range=0.2,\n",
    "    rotation_range = 0.1)"
   ]
  },
  {
   "cell_type": "code",
   "execution_count": 149,
   "metadata": {},
   "outputs": [],
   "source": [
    "test_datagen = ImageDataGenerator(rescale=1. / 255)"
   ]
  },
  {
   "cell_type": "code",
   "execution_count": 150,
   "metadata": {},
   "outputs": [
    {
     "name": "stdout",
     "output_type": "stream",
     "text": [
      "Found 1944 images belonging to 2 classes.\n"
     ]
    }
   ],
   "source": [
    "train_generator = train_datagen.flow_from_directory(\n",
    "    train_data_dir,\n",
    "    target_size=(img_width, img_height),\n",
    "    batch_size=batch_size,\n",
    "    class_mode='binary',\n",
    "    color_mode ='grayscale')"
   ]
  },
  {
   "cell_type": "code",
   "execution_count": 151,
   "metadata": {},
   "outputs": [
    {
     "name": "stdout",
     "output_type": "stream",
     "text": [
      "Found 243 images belonging to 2 classes.\n"
     ]
    }
   ],
   "source": [
    "validation_generator = test_datagen.flow_from_directory(\n",
    "    validation_data_dir,\n",
    "    target_size=(img_width, img_height),\n",
    "    batch_size=batch_size,\n",
    "    class_mode='binary',\n",
    "    color_mode='grayscale')"
   ]
  },
  {
   "cell_type": "code",
   "execution_count": 152,
   "metadata": {},
   "outputs": [
    {
     "name": "stdout",
     "output_type": "stream",
     "text": [
      "Found 16 images belonging to 2 classes.\n"
     ]
    }
   ],
   "source": [
    "test_generator = test_datagen.flow_from_directory(\n",
    "    directory=test_data_dir,\n",
    "    target_size=(img_width, img_height),\n",
    "    batch_size=batch_size,\n",
    "    class_mode='binary',\n",
    "    color_mode='grayscale'\n",
    ")"
   ]
  },
  {
   "cell_type": "code",
   "execution_count": 153,
   "metadata": {
    "scrolled": true
   },
   "outputs": [
    {
     "name": "stdout",
     "output_type": "stream",
     "text": [
      "Epoch 1/50\n",
      "6/6 [==============================] - 26s 4s/step - loss: 14.9295 - accuracy: 0.5521 - val_loss: 0.6625 - val_accuracy: 0.6562\n",
      "Epoch 2/50\n",
      "6/6 [==============================] - 23s 4s/step - loss: 0.7493 - accuracy: 0.5677 - val_loss: 0.6876 - val_accuracy: 0.6562\n",
      "Epoch 3/50\n",
      "6/6 [==============================] - 23s 4s/step - loss: 0.6329 - accuracy: 0.6354 - val_loss: 0.6628 - val_accuracy: 0.6250\n",
      "Epoch 4/50\n",
      "6/6 [==============================] - 23s 4s/step - loss: 0.6680 - accuracy: 0.6510 - val_loss: 0.6603 - val_accuracy: 0.6875\n",
      "Epoch 5/50\n",
      "6/6 [==============================] - 24s 4s/step - loss: 0.5996 - accuracy: 0.7031 - val_loss: 0.7051 - val_accuracy: 0.5625\n",
      "Epoch 6/50\n",
      "6/6 [==============================] - 24s 4s/step - loss: 0.6442 - accuracy: 0.6615 - val_loss: 0.6471 - val_accuracy: 0.6250\n",
      "Epoch 7/50\n",
      "6/6 [==============================] - 24s 4s/step - loss: 0.7358 - accuracy: 0.6042 - val_loss: 0.7031 - val_accuracy: 0.5938\n",
      "Epoch 8/50\n",
      "6/6 [==============================] - 23s 4s/step - loss: 0.6610 - accuracy: 0.6302 - val_loss: 0.6445 - val_accuracy: 0.6250\n",
      "Epoch 9/50\n",
      "6/6 [==============================] - 23s 4s/step - loss: 0.7575 - accuracy: 0.6198 - val_loss: 0.8199 - val_accuracy: 0.6562\n",
      "Epoch 10/50\n",
      "6/6 [==============================] - 23s 4s/step - loss: 0.7281 - accuracy: 0.6510 - val_loss: 0.6049 - val_accuracy: 0.6875\n",
      "Epoch 11/50\n",
      "6/6 [==============================] - 24s 4s/step - loss: 0.6291 - accuracy: 0.6615 - val_loss: 0.6027 - val_accuracy: 0.6875\n",
      "Epoch 12/50\n",
      "6/6 [==============================] - 24s 4s/step - loss: 0.6098 - accuracy: 0.7031 - val_loss: 0.8359 - val_accuracy: 0.2812\n",
      "Epoch 13/50\n",
      "6/6 [==============================] - 24s 4s/step - loss: 0.7646 - accuracy: 0.5312 - val_loss: 0.6579 - val_accuracy: 0.5625\n",
      "Epoch 14/50\n",
      "6/6 [==============================] - 23s 4s/step - loss: 0.6082 - accuracy: 0.7188 - val_loss: 0.5374 - val_accuracy: 0.7500\n",
      "Epoch 15/50\n",
      "6/6 [==============================] - 22s 4s/step - loss: 0.7391 - accuracy: 0.5761 - val_loss: 0.6497 - val_accuracy: 0.6562\n",
      "Epoch 16/50\n",
      "6/6 [==============================] - 24s 4s/step - loss: 0.6361 - accuracy: 0.6198 - val_loss: 0.7768 - val_accuracy: 0.5938\n",
      "Epoch 17/50\n",
      "6/6 [==============================] - 24s 4s/step - loss: 1.3795 - accuracy: 0.6094 - val_loss: 1.4174 - val_accuracy: 0.6250\n",
      "Epoch 18/50\n",
      "6/6 [==============================] - 24s 4s/step - loss: 0.7455 - accuracy: 0.6250 - val_loss: 0.6438 - val_accuracy: 0.6875\n",
      "Epoch 19/50\n",
      "6/6 [==============================] - 22s 4s/step - loss: 0.6452 - accuracy: 0.6615 - val_loss: 0.6371 - val_accuracy: 0.6562\n",
      "Epoch 20/50\n",
      "6/6 [==============================] - 22s 4s/step - loss: 0.6092 - accuracy: 0.7083 - val_loss: 0.6727 - val_accuracy: 0.5938\n",
      "Epoch 21/50\n",
      "6/6 [==============================] - 24s 4s/step - loss: 0.6416 - accuracy: 0.6927 - val_loss: 0.5109 - val_accuracy: 0.8750\n",
      "Epoch 22/50\n",
      "6/6 [==============================] - 23s 4s/step - loss: 0.5935 - accuracy: 0.6793 - val_loss: 0.5342 - val_accuracy: 0.7500\n",
      "Epoch 23/50\n",
      "6/6 [==============================] - 24s 4s/step - loss: 0.6419 - accuracy: 0.6823 - val_loss: 0.5070 - val_accuracy: 0.7812\n",
      "Epoch 24/50\n",
      "6/6 [==============================] - 23s 4s/step - loss: 0.7845 - accuracy: 0.7031 - val_loss: 0.5440 - val_accuracy: 0.7188\n",
      "Epoch 25/50\n",
      "6/6 [==============================] - 23s 4s/step - loss: 0.6513 - accuracy: 0.6719 - val_loss: 0.5250 - val_accuracy: 0.7500\n",
      "Epoch 26/50\n",
      "6/6 [==============================] - 24s 4s/step - loss: 0.5644 - accuracy: 0.7344 - val_loss: 0.8696 - val_accuracy: 0.5938\n",
      "Epoch 27/50\n",
      "6/6 [==============================] - 24s 4s/step - loss: 0.9321 - accuracy: 0.6250 - val_loss: 5.0928 - val_accuracy: 0.7812\n",
      "Epoch 28/50\n",
      "6/6 [==============================] - 23s 4s/step - loss: 1.7508 - accuracy: 0.6033 - val_loss: 0.5493 - val_accuracy: 0.7500\n",
      "Epoch 29/50\n",
      "6/6 [==============================] - 23s 4s/step - loss: 0.6167 - accuracy: 0.6615 - val_loss: 0.6588 - val_accuracy: 0.5625\n",
      "Epoch 30/50\n",
      "6/6 [==============================] - 23s 4s/step - loss: 0.5716 - accuracy: 0.7240 - val_loss: 0.5393 - val_accuracy: 0.6562\n",
      "Epoch 31/50\n",
      "6/6 [==============================] - 23s 4s/step - loss: 0.6503 - accuracy: 0.5990 - val_loss: 0.6311 - val_accuracy: 0.6250\n",
      "Epoch 32/50\n",
      "6/6 [==============================] - 24s 4s/step - loss: 0.6709 - accuracy: 0.6719 - val_loss: 0.5702 - val_accuracy: 0.6875\n",
      "Epoch 33/50\n",
      "6/6 [==============================] - 24s 4s/step - loss: 0.6495 - accuracy: 0.6198 - val_loss: 0.5840 - val_accuracy: 0.7500\n",
      "Epoch 34/50\n",
      "6/6 [==============================] - 23s 4s/step - loss: 0.8919 - accuracy: 0.6771 - val_loss: 0.6777 - val_accuracy: 0.4688\n",
      "Epoch 35/50\n",
      "6/6 [==============================] - 23s 4s/step - loss: 0.5585 - accuracy: 0.6927 - val_loss: 0.5662 - val_accuracy: 0.6875\n",
      "Epoch 36/50\n",
      "6/6 [==============================] - 23s 4s/step - loss: 0.5795 - accuracy: 0.6875 - val_loss: 0.6182 - val_accuracy: 0.6875\n",
      "Epoch 37/50\n",
      "6/6 [==============================] - 24s 4s/step - loss: 0.5595 - accuracy: 0.7344 - val_loss: 0.5080 - val_accuracy: 0.7812\n",
      "Epoch 38/50\n",
      "6/6 [==============================] - 22s 4s/step - loss: 0.5895 - accuracy: 0.7188 - val_loss: 0.6727 - val_accuracy: 0.5312\n",
      "Epoch 39/50\n",
      "6/6 [==============================] - 24s 4s/step - loss: 0.5832 - accuracy: 0.7120 - val_loss: 0.5509 - val_accuracy: 0.6875\n",
      "Epoch 40/50\n",
      "6/6 [==============================] - 24s 4s/step - loss: 0.5662 - accuracy: 0.7344 - val_loss: 0.9340 - val_accuracy: 0.6562\n",
      "Epoch 41/50\n",
      "6/6 [==============================] - 22s 4s/step - loss: 0.6993 - accuracy: 0.6667 - val_loss: 0.5742 - val_accuracy: 0.6250\n",
      "Epoch 42/50\n",
      "6/6 [==============================] - 23s 4s/step - loss: 0.5915 - accuracy: 0.6979 - val_loss: 0.5737 - val_accuracy: 0.7812\n",
      "Epoch 43/50\n",
      "6/6 [==============================] - 24s 4s/step - loss: 0.5870 - accuracy: 0.7337 - val_loss: 0.4139 - val_accuracy: 0.7500\n",
      "Epoch 44/50\n",
      "6/6 [==============================] - 24s 4s/step - loss: 0.5976 - accuracy: 0.6562 - val_loss: 0.5911 - val_accuracy: 0.6250\n",
      "Epoch 45/50\n",
      "6/6 [==============================] - 22s 4s/step - loss: 1.0038 - accuracy: 0.6522 - val_loss: 0.5594 - val_accuracy: 0.7812\n",
      "Epoch 46/50\n",
      "6/6 [==============================] - 23s 4s/step - loss: 0.6356 - accuracy: 0.6510 - val_loss: 0.5214 - val_accuracy: 0.6250\n",
      "Epoch 47/50\n",
      "6/6 [==============================] - 24s 4s/step - loss: 1.2945 - accuracy: 0.5729 - val_loss: 0.5978 - val_accuracy: 0.5938\n",
      "Epoch 48/50\n",
      "6/6 [==============================] - 24s 4s/step - loss: 0.5915 - accuracy: 0.6927 - val_loss: 0.5841 - val_accuracy: 0.6562\n",
      "Epoch 49/50\n",
      "6/6 [==============================] - 23s 4s/step - loss: 0.5758 - accuracy: 0.7083 - val_loss: 0.6569 - val_accuracy: 0.6562\n",
      "Epoch 50/50\n",
      "6/6 [==============================] - 23s 4s/step - loss: 0.5659 - accuracy: 0.7188 - val_loss: 0.3498 - val_accuracy: 0.7812\n"
     ]
    }
   ],
   "source": [
    "STEP_SIZE_TRAIN = nb_train_samples // batch_size\n",
    "STEP_SIZE_VALID = nb_validation_samples // batch_size\n",
    "history = model.fit_generator(\n",
    "    generator = train_generator,\n",
    "    steps_per_epoch=STEP_SIZE_TRAIN,\n",
    "    epochs=epochs,\n",
    "    validation_data=validation_generator,\n",
    "    validation_steps=STEP_SIZE_VALID)"
   ]
  },
  {
   "cell_type": "code",
   "execution_count": 154,
   "metadata": {},
   "outputs": [
    {
     "data": {
      "text/plain": [
       "[0.7338792681694031, 0.59375]"
      ]
     },
     "execution_count": 154,
     "metadata": {},
     "output_type": "execute_result"
    }
   ],
   "source": [
    "model.evaluate_generator(generator=validation_generator,steps=STEP_SIZE_VALID)"
   ]
  },
  {
   "cell_type": "code",
   "execution_count": 155,
   "metadata": {},
   "outputs": [
    {
     "name": "stdout",
     "output_type": "stream",
     "text": [
      "1/1 [==============================] - 0s 1ms/step\n"
     ]
    }
   ],
   "source": [
    "STEP_SIZE_TEST = 1\n",
    "test_generator.reset()\n",
    "pred=model.predict_generator(test_generator,steps=STEP_SIZE_TEST,verbose=1)"
   ]
  },
  {
   "cell_type": "code",
   "execution_count": 156,
   "metadata": {},
   "outputs": [
    {
     "data": {
      "text/plain": [
       "array([[0.33584803],\n",
       "       [0.4156437 ],\n",
       "       [0.08480737],\n",
       "       [0.24938929],\n",
       "       [0.1113109 ],\n",
       "       [0.10827386],\n",
       "       [0.2850164 ],\n",
       "       [0.20431137],\n",
       "       [0.24612671],\n",
       "       [0.26007104],\n",
       "       [0.17246518],\n",
       "       [0.3493007 ],\n",
       "       [0.13673863],\n",
       "       [0.20820665],\n",
       "       [0.14558259],\n",
       "       [0.2831871 ]], dtype=float32)"
      ]
     },
     "execution_count": 156,
     "metadata": {},
     "output_type": "execute_result"
    }
   ],
   "source": [
    "pred"
   ]
  },
  {
   "cell_type": "code",
   "execution_count": 157,
   "metadata": {},
   "outputs": [
    {
     "data": {
      "text/plain": [
       "array([0, 0, 0, 0, 0, 0, 0, 0, 0, 0, 0, 0, 0, 0, 0, 0], dtype=int64)"
      ]
     },
     "execution_count": 157,
     "metadata": {},
     "output_type": "execute_result"
    }
   ],
   "source": [
    "predicted_class_indices=np.argmax(pred,axis=1)\n",
    "predicted_class_indices"
   ]
  },
  {
   "cell_type": "code",
   "execution_count": 158,
   "metadata": {},
   "outputs": [],
   "source": [
    "labels = (train_generator.class_indices)\n",
    "# labels.keys()\n",
    "target = test_generator.classes"
   ]
  },
  {
   "cell_type": "code",
   "execution_count": 159,
   "metadata": {},
   "outputs": [
    {
     "data": {
      "text/plain": [
       "array([0, 0, 0, 0, 0, 0, 0, 0, 1, 1, 1, 1, 1, 1, 1, 1])"
      ]
     },
     "execution_count": 159,
     "metadata": {},
     "output_type": "execute_result"
    }
   ],
   "source": [
    "target"
   ]
  },
  {
   "cell_type": "code",
   "execution_count": 160,
   "metadata": {},
   "outputs": [],
   "source": [
    "# labels = dict((v,k) for k,v in labels.items())\n",
    "# predictions = [labels[k] for k in predicted_class_indices]\n"
   ]
  },
  {
   "cell_type": "code",
   "execution_count": 161,
   "metadata": {},
   "outputs": [],
   "source": [
    "# predictions"
   ]
  },
  {
   "cell_type": "code",
   "execution_count": 162,
   "metadata": {},
   "outputs": [],
   "source": [
    "# filenames=test_generator.filenames\n",
    "# results=pd.DataFrame({\"Filename\":filenames,\n",
    "#                       \"Predictions\":predictions})\n",
    "# results.to_csv(\"results.csv\",index=False)"
   ]
  },
  {
   "cell_type": "code",
   "execution_count": 163,
   "metadata": {},
   "outputs": [
    {
     "data": {
      "text/plain": [
       "Text(0.5, 0, 'Epoch')"
      ]
     },
     "execution_count": 163,
     "metadata": {},
     "output_type": "execute_result"
    },
    {
     "data": {
      "image/png": "[encoded data removed]",
      "text/plain": [
       "<Figure size 432x288 with 1 Axes>"
      ]
     },
     "metadata": {
      "needs_background": "light"
     },
     "output_type": "display_data"
    }
   ],
   "source": [
    "import matplotlib.pyplot as plt\n",
    "fig = plt.figure()\n",
    "plt.plot(history.history['val_loss'])\n",
    "plt.legend(['validation'], loc='upper left')\n",
    "plt.title('validation loss vs epoch')\n",
    "plt.ylabel('validation loss')\n",
    "plt.xlabel('Epoch')"
   ]
  },
  {
   "cell_type": "code",
   "execution_count": 164,
   "metadata": {},
   "outputs": [
    {
     "data": {
      "text/plain": [
       "Text(0.5, 0, 'Epoch')"
      ]
     },
     "execution_count": 164,
     "metadata": {},
     "output_type": "execute_result"
    },
    {
     "data": {
      "image/png": "[encoded data removed]",
      "text/plain": [
       "<Figure size 432x288 with 1 Axes>"
      ]
     },
     "metadata": {
      "needs_background": "light"
     },
     "output_type": "display_data"
    }
   ],
   "source": [
    "fig = plt.figure()\n",
    "plt.plot(history.history['val_accuracy'])\n",
    "plt.legend(['validation'], loc='upper left')\n",
    "plt.title('validation accuracy vs epoch')\n",
    "plt.ylabel('validation accuracy')\n",
    "plt.xlabel('Epoch')"
   ]
  },
  {
   "cell_type": "code",
   "execution_count": 165,
   "metadata": {
    "scrolled": true
   },
   "outputs": [],
   "source": [
    "# validation_generator[1]"
   ]
  },
  {
   "cell_type": "code",
   "execution_count": 166,
   "metadata": {
    "scrolled": true
   },
   "outputs": [
    {
     "name": "stdout",
     "output_type": "stream",
     "text": [
      "Classification Report: \n",
      "               precision    recall  f1-score   support\n",
      "\n",
      "           0       0.50      1.00      0.67         8\n",
      "           1       0.00      0.00      0.00         8\n",
      "\n",
      "    accuracy                           0.50        16\n",
      "   macro avg       0.25      0.50      0.33        16\n",
      "weighted avg       0.25      0.50      0.33        16\n",
      "\n"
     ]
    },
    {
     "name": "stderr",
     "output_type": "stream",
     "text": [
      "C:\\Users\\prast\\anaconda3\\lib\\site-packages\\sklearn\\metrics\\_classification.py:1245: UndefinedMetricWarning: Precision and F-score are ill-defined and being set to 0.0 in labels with no predicted samples. Use `zero_division` parameter to control this behavior.\n",
      "  _warn_prf(average, modifier, msg_start, len(result))\n",
      "C:\\Users\\prast\\anaconda3\\lib\\site-packages\\sklearn\\metrics\\_classification.py:1245: UndefinedMetricWarning: Precision and F-score are ill-defined and being set to 0.0 in labels with no predicted samples. Use `zero_division` parameter to control this behavior.\n",
      "  _warn_prf(average, modifier, msg_start, len(result))\n",
      "C:\\Users\\prast\\anaconda3\\lib\\site-packages\\sklearn\\metrics\\_classification.py:1245: UndefinedMetricWarning: Precision and F-score are ill-defined and being set to 0.0 in labels with no predicted samples. Use `zero_division` parameter to control this behavior.\n",
      "  _warn_prf(average, modifier, msg_start, len(result))\n"
     ]
    }
   ],
   "source": [
    "from sklearn.metrics import confusion_matrix , classification_report\n",
    "# len(validation_generator[1])\n",
    "# len(predicted_class_indices)\n",
    "print(\"Classification Report: \\n\", classification_report(target, predicted_class_indices))"
   ]
  },
  {
   "cell_type": "code",
   "execution_count": 167,
   "metadata": {},
   "outputs": [],
   "source": [
    "# #Confusion Matrix and Classification Report\n",
    "# Y_pred = model.predict_generator(validation_generator, num_of_test_samples // batch_size+1)\n",
    "# y_pred = np.argmax(Y_pred, axis=1)\n",
    "# print('Confusion Matrix')\n",
    "# print(confusion_matrix(validation_generator.classes, y_pred))\n",
    "# print('Classification Report')\n",
    "# target_names = ['covid', 'normal']\n",
    "# print(classification_report(validation_generator.classes, y_pred, target_names=target_names))"
   ]
  },
  {
   "cell_type": "code",
   "execution_count": 168,
   "metadata": {},
   "outputs": [],
   "source": [
    "from sklearn.metrics import roc_curve,roc_auc_score\n"
   ]
  },
  {
   "cell_type": "code",
   "execution_count": 169,
   "metadata": {},
   "outputs": [],
   "source": [
    "fpr , tpr , thresholds = roc_curve ( target , predicted_class_indices)\n"
   ]
  },
  {
   "cell_type": "code",
   "execution_count": 170,
   "metadata": {},
   "outputs": [
    {
     "data": {
      "image/png": "[encoded data removed]",
      "text/plain": [
       "<Figure size 432x288 with 1 Axes>"
      ]
     },
     "metadata": {
      "needs_background": "light"
     },
     "output_type": "display_data"
    }
   ],
   "source": [
    "def plot_roc_curve(fpr,tpr): \n",
    "    plt.plot(fpr,tpr) \n",
    "    plt.axis([0,1,0,1]) \n",
    "    plt.xlabel('False Positive Rate') \n",
    "    plt.ylabel('True Positive Rate')\n",
    "    plt.title('ROC Curve')\n",
    "    plt.show()    \n",
    "  \n",
    "plot_roc_curve (fpr,tpr) "
   ]
  },
  {
   "cell_type": "code",
   "execution_count": 171,
   "metadata": {},
   "outputs": [
    {
     "data": {
      "text/plain": [
       "0.5"
      ]
     },
     "execution_count": 171,
     "metadata": {},
     "output_type": "execute_result"
    }
   ],
   "source": [
    "auc_score=roc_auc_score(target,predicted_class_indices) \n",
    "auc_score"
   ]
  },
  {
   "cell_type": "code",
   "execution_count": 172,
   "metadata": {},
   "outputs": [
    {
     "data": {
      "image/png": "[encoded data removed]",
      "text/plain": [
       "<Figure size 432x288 with 1 Axes>"
      ]
     },
     "metadata": {
      "needs_background": "light"
     },
     "output_type": "display_data"
    }
   ],
   "source": [
    "from sklearn.metrics import precision_recall_curve\n",
    "from sklearn.metrics import PrecisionRecallDisplay\n",
    "\n",
    "prec, recall, _ = precision_recall_curve(target, predicted_class_indices)\n",
    "pr_display = PrecisionRecallDisplay(precision=prec, recall=recall).plot()"
   ]
  },
  {
   "cell_type": "code",
   "execution_count": null,
   "metadata": {},
   "outputs": [],
   "source": []
  }
 ],
 "metadata": {
  "interpreter": {
   "hash": "fcccc7b9e0429018c410444b41fc09916ab3544e68cfd9bcc8df9f764a1fdba5"
  },
  "kernelspec": {
   "display_name": "Python 3",
   "language": "python",
   "name": "python3"
  },
  "language_info": {
   "codemirror_mode": {
    "name": "ipython",
    "version": 3
   },
   "file_extension": ".py",
   "mimetype": "text/x-python",
   "name": "python",
   "nbconvert_exporter": "python",
   "pygments_lexer": "ipython3",
   "version": "3.8.8"
  }
 },
 "nbformat": 4,
 "nbformat_minor": 2
}
