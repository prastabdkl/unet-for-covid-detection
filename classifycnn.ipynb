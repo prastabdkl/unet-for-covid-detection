{
 "cells": [
  {
   "cell_type": "code",
   "execution_count": 1,
   "metadata": {},
   "outputs": [],
   "source": [
    "from keras.preprocessing.image import ImageDataGenerator\n",
    "from keras.models import Sequential\n",
    "from keras.layers import Conv2D, MaxPooling2D\n",
    "from keras.layers import Activation, Dropout, Flatten, Dense\n",
    "from keras import backend as K\n",
    "from tensorflow.keras import datasets, layers, models\n",
    "import numpy as np\n",
    "import pandas as pd"
   ]
  },
  {
   "cell_type": "code",
   "execution_count": 2,
   "metadata": {},
   "outputs": [],
   "source": [
    "# img_width, img_height = 512, 512\n",
    "\n",
    "# train_data_dir = r'C:\\Users\\prast\\Downloads\\CS 7000\\Final report\\u-net-code\\unet-for-covid-detection\\dataset\\data_c_vs_nc\\train'\n",
    "# validation_data_dir = r'C:\\Users\\prast\\Downloads\\CS 7000\\Final report\\u-net-code\\unet-for-covid-detection\\dataset\\data_c_vs_nc\\validate'\n",
    "# test_data_dir = r\"C:\\Users\\prast\\Downloads\\CS 7000\\Final report\\u-net-code\\unet-for-covid-detection\\dataset\\data_c_vs_nc\\test\""
   ]
  },
  {
   "cell_type": "code",
   "execution_count": 3,
   "metadata": {},
   "outputs": [],
   "source": [
    "img_width, img_height = 512, 512\n",
    "\n",
    "train_data_dir = r\"C:\\Users\\prast\\Downloads\\CS 7000\\Final report\\u-net-code\\unet-for-covid-detection\\finaldata\\train\"\n",
    "validation_data_dir = r'C:\\Users\\prast\\Downloads\\CS 7000\\Final report\\u-net-code\\unet-for-covid-detection\\finaldata\\val'\n",
    "test_data_dir = r\"C:\\Users\\prast\\Downloads\\CS 7000\\Final report\\u-net-code\\unet-for-covid-detection\\finaldata\\test\""
   ]
  },
  {
   "cell_type": "code",
   "execution_count": 4,
   "metadata": {},
   "outputs": [],
   "source": [
    "nb_train_samples = 204\n",
    "nb_validation_samples = 40\n",
    "num_of_test_samples = 16\n",
    "epochs = 50\n",
    "batch_size = 32"
   ]
  },
  {
   "cell_type": "code",
   "execution_count": 5,
   "metadata": {},
   "outputs": [],
   "source": [
    "if K.image_data_format() == 'channels_first':\n",
    "    input_shape = (1, img_width, img_height)\n",
    "else:\n",
    "    input_shape = (img_width, img_height, 1)"
   ]
  },
  {
   "cell_type": "code",
   "execution_count": 6,
   "metadata": {},
   "outputs": [
    {
     "data": {
      "text/plain": [
       "(512, 512, 1)"
      ]
     },
     "execution_count": 6,
     "metadata": {},
     "output_type": "execute_result"
    }
   ],
   "source": [
    "input_shape"
   ]
  },
  {
   "cell_type": "code",
   "execution_count": 7,
   "metadata": {},
   "outputs": [],
   "source": [
    "model = Sequential()\n",
    "model.add(Conv2D(32, (3, 3), input_shape=input_shape))\n",
    "model.add(Activation('relu'))\n",
    "model.add(MaxPooling2D(pool_size=(2, 2)))\n",
    "\n",
    "model.add(Conv2D(32, (3, 3)))\n",
    "model.add(Activation('relu'))\n",
    "model.add(MaxPooling2D(pool_size=(2, 2)))\n",
    "\n",
    "model.add(Conv2D(64, (3, 3)))\n",
    "model.add(Activation('relu'))\n",
    "model.add(MaxPooling2D(pool_size=(2, 2)))\n",
    "\n",
    "model.add(Flatten())\n",
    "model.add(Dense(64))\n",
    "model.add(Activation('relu'))\n",
    "model.add(Dropout(0.5))\n",
    "model.add(Dense(1))\n",
    "model.add(Activation('sigmoid'))"
   ]
  },
  {
   "cell_type": "code",
   "execution_count": 8,
   "metadata": {},
   "outputs": [],
   "source": [
    "#model.summary()"
   ]
  },
  {
   "cell_type": "code",
   "execution_count": 9,
   "metadata": {},
   "outputs": [],
   "source": [
    "model.compile(loss='binary_crossentropy',\n",
    "              optimizer='rmsprop',\n",
    "              metrics=['accuracy'])"
   ]
  },
  {
   "cell_type": "code",
   "execution_count": 10,
   "metadata": {},
   "outputs": [],
   "source": [
    "train_datagen = ImageDataGenerator(\n",
    "    rescale=1. / 255,\n",
    "    shear_range=0.2,\n",
    "    zoom_range=0.2,\n",
    "    rotation_range = 0.1)"
   ]
  },
  {
   "cell_type": "code",
   "execution_count": 11,
   "metadata": {},
   "outputs": [],
   "source": [
    "test_datagen = ImageDataGenerator(rescale=1. / 255)"
   ]
  },
  {
   "cell_type": "code",
   "execution_count": 12,
   "metadata": {},
   "outputs": [
    {
     "name": "stdout",
     "output_type": "stream",
     "text": [
      "Found 1944 images belonging to 2 classes.\n"
     ]
    }
   ],
   "source": [
    "train_generator = train_datagen.flow_from_directory(\n",
    "    train_data_dir,\n",
    "    target_size=(img_width, img_height),\n",
    "    batch_size=batch_size,\n",
    "    class_mode='binary',\n",
    "    color_mode ='grayscale')"
   ]
  },
  {
   "cell_type": "code",
   "execution_count": 13,
   "metadata": {},
   "outputs": [
    {
     "name": "stdout",
     "output_type": "stream",
     "text": [
      "Found 243 images belonging to 2 classes.\n"
     ]
    }
   ],
   "source": [
    "validation_generator = test_datagen.flow_from_directory(\n",
    "    validation_data_dir,\n",
    "    target_size=(img_width, img_height),\n",
    "    batch_size=batch_size,\n",
    "    class_mode='binary',\n",
    "    color_mode='grayscale')"
   ]
  },
  {
   "cell_type": "code",
   "execution_count": 14,
   "metadata": {},
   "outputs": [
    {
     "name": "stdout",
     "output_type": "stream",
     "text": [
      "Found 16 images belonging to 2 classes.\n"
     ]
    }
   ],
   "source": [
    "test_generator = test_datagen.flow_from_directory(\n",
    "    directory=test_data_dir,\n",
    "    target_size=(img_width, img_height),\n",
    "    batch_size=batch_size,\n",
    "    class_mode='binary',\n",
    "    color_mode='grayscale'\n",
    ")"
   ]
  },
  {
   "cell_type": "code",
   "execution_count": 15,
   "metadata": {
    "scrolled": true
   },
   "outputs": [
    {
     "name": "stdout",
     "output_type": "stream",
     "text": [
      "WARNING:tensorflow:From <ipython-input-15-f5858924dfc2>:3: Model.fit_generator (from tensorflow.python.keras.engine.training) is deprecated and will be removed in a future version.\n",
      "Instructions for updating:\n",
      "Please use Model.fit, which supports generators.\n",
      "Epoch 1/50\n",
      "6/6 [==============================] - 15s 3s/step - loss: 3.2636 - accuracy: 0.5000 - val_loss: 0.6672 - val_accuracy: 0.6875\n",
      "Epoch 2/50\n",
      "6/6 [==============================] - 15s 3s/step - loss: 0.6607 - accuracy: 0.6354 - val_loss: 0.6706 - val_accuracy: 0.6250\n",
      "Epoch 3/50\n",
      "6/6 [==============================] - 16s 3s/step - loss: 0.6549 - accuracy: 0.6510 - val_loss: 0.5632 - val_accuracy: 0.7812\n",
      "Epoch 4/50\n",
      "6/6 [==============================] - 16s 3s/step - loss: 0.6437 - accuracy: 0.6979 - val_loss: 0.6771 - val_accuracy: 0.6250\n",
      "Epoch 5/50\n",
      "6/6 [==============================] - 15s 2s/step - loss: 0.6760 - accuracy: 0.6562 - val_loss: 0.6223 - val_accuracy: 0.6875\n",
      "Epoch 6/50\n",
      "6/6 [==============================] - 15s 2s/step - loss: 0.6409 - accuracy: 0.6823 - val_loss: 0.6217 - val_accuracy: 0.6875\n",
      "Epoch 7/50\n",
      "6/6 [==============================] - 15s 3s/step - loss: 0.6166 - accuracy: 0.7031 - val_loss: 0.5995 - val_accuracy: 0.7188\n",
      "Epoch 8/50\n",
      "6/6 [==============================] - 15s 2s/step - loss: 0.8513 - accuracy: 0.6875 - val_loss: 0.6378 - val_accuracy: 0.6875\n",
      "Epoch 9/50\n",
      "6/6 [==============================] - 14s 2s/step - loss: 0.6044 - accuracy: 0.6957 - val_loss: 0.7149 - val_accuracy: 0.5000\n",
      "Epoch 10/50\n",
      "6/6 [==============================] - 15s 2s/step - loss: 0.5589 - accuracy: 0.7552 - val_loss: 0.8103 - val_accuracy: 0.5938\n",
      "Epoch 11/50\n",
      "6/6 [==============================] - 15s 2s/step - loss: 0.6636 - accuracy: 0.6562 - val_loss: 0.5472 - val_accuracy: 0.7500\n",
      "Epoch 12/50\n",
      "6/6 [==============================] - 15s 2s/step - loss: 0.6633 - accuracy: 0.6510 - val_loss: 0.6174 - val_accuracy: 0.6562\n",
      "Epoch 13/50\n",
      "6/6 [==============================] - 15s 2s/step - loss: 0.6042 - accuracy: 0.6927 - val_loss: 0.5656 - val_accuracy: 0.6875\n",
      "Epoch 14/50\n",
      "6/6 [==============================] - 15s 3s/step - loss: 0.6500 - accuracy: 0.6667 - val_loss: 0.6532 - val_accuracy: 0.6250\n",
      "Epoch 15/50\n",
      "6/6 [==============================] - 14s 2s/step - loss: 0.6612 - accuracy: 0.6667 - val_loss: 0.5798 - val_accuracy: 0.7812\n",
      "Epoch 16/50\n",
      "6/6 [==============================] - 14s 2s/step - loss: 0.6450 - accuracy: 0.6562 - val_loss: 0.4999 - val_accuracy: 0.8125\n",
      "Epoch 17/50\n",
      "6/6 [==============================] - 14s 2s/step - loss: 0.6024 - accuracy: 0.7135 - val_loss: 0.5681 - val_accuracy: 0.6875\n",
      "Epoch 18/50\n",
      "6/6 [==============================] - 14s 2s/step - loss: 0.6183 - accuracy: 0.7240 - val_loss: 0.5632 - val_accuracy: 0.7188\n",
      "Epoch 19/50\n",
      "6/6 [==============================] - 15s 2s/step - loss: 0.6254 - accuracy: 0.7240 - val_loss: 0.5573 - val_accuracy: 0.7188\n",
      "Epoch 20/50\n",
      "6/6 [==============================] - 14s 2s/step - loss: 0.6740 - accuracy: 0.6562 - val_loss: 0.6673 - val_accuracy: 0.5625\n",
      "Epoch 21/50\n",
      "6/6 [==============================] - 14s 2s/step - loss: 0.6502 - accuracy: 0.6667 - val_loss: 0.5883 - val_accuracy: 0.6875\n",
      "Epoch 22/50\n",
      "6/6 [==============================] - 13s 2s/step - loss: 0.6274 - accuracy: 0.6630 - val_loss: 0.6027 - val_accuracy: 0.6562\n",
      "Epoch 23/50\n",
      "6/6 [==============================] - 14s 2s/step - loss: 0.6155 - accuracy: 0.7135 - val_loss: 0.5897 - val_accuracy: 0.7500\n",
      "Epoch 24/50\n",
      "6/6 [==============================] - 14s 2s/step - loss: 0.6154 - accuracy: 0.6979 - val_loss: 0.5752 - val_accuracy: 0.6875\n",
      "Epoch 25/50\n",
      "6/6 [==============================] - 14s 2s/step - loss: 0.5872 - accuracy: 0.7396 - val_loss: 0.5228 - val_accuracy: 0.6875\n",
      "Epoch 26/50\n",
      "6/6 [==============================] - 14s 2s/step - loss: 0.6395 - accuracy: 0.6771 - val_loss: 0.5421 - val_accuracy: 0.7500\n",
      "Epoch 27/50\n",
      "6/6 [==============================] - 14s 2s/step - loss: 0.6351 - accuracy: 0.7135 - val_loss: 0.4511 - val_accuracy: 0.7812\n",
      "Epoch 28/50\n",
      "6/6 [==============================] - 13s 2s/step - loss: 0.6112 - accuracy: 0.6576 - val_loss: 0.5089 - val_accuracy: 0.7812\n",
      "Epoch 29/50\n",
      "6/6 [==============================] - 14s 2s/step - loss: 0.6161 - accuracy: 0.6771 - val_loss: 0.6177 - val_accuracy: 0.5938\n",
      "Epoch 30/50\n",
      "6/6 [==============================] - 14s 2s/step - loss: 0.5544 - accuracy: 0.7135 - val_loss: 0.5245 - val_accuracy: 0.7500\n",
      "Epoch 31/50\n",
      "6/6 [==============================] - 14s 2s/step - loss: 0.5985 - accuracy: 0.7240 - val_loss: 0.5393 - val_accuracy: 0.6562\n",
      "Epoch 32/50\n",
      "6/6 [==============================] - 14s 2s/step - loss: 0.5699 - accuracy: 0.7292 - val_loss: 0.5457 - val_accuracy: 0.7500\n",
      "Epoch 33/50\n",
      "6/6 [==============================] - 14s 2s/step - loss: 0.5696 - accuracy: 0.6979 - val_loss: 0.5142 - val_accuracy: 0.6562\n",
      "Epoch 34/50\n",
      "6/6 [==============================] - 14s 2s/step - loss: 0.5874 - accuracy: 0.6667 - val_loss: 0.6092 - val_accuracy: 0.6562\n",
      "Epoch 35/50\n",
      "6/6 [==============================] - 14s 2s/step - loss: 0.6103 - accuracy: 0.6927 - val_loss: 0.4819 - val_accuracy: 0.6875\n",
      "Epoch 36/50\n",
      "6/6 [==============================] - 14s 2s/step - loss: 0.5725 - accuracy: 0.7396 - val_loss: 0.5247 - val_accuracy: 0.6562\n",
      "Epoch 37/50\n",
      "6/6 [==============================] - 15s 3s/step - loss: 0.5858 - accuracy: 0.6562 - val_loss: 0.6345 - val_accuracy: 0.5312\n",
      "Epoch 38/50\n",
      "6/6 [==============================] - 18s 3s/step - loss: 0.5974 - accuracy: 0.7188 - val_loss: 0.3957 - val_accuracy: 0.8125\n",
      "Epoch 39/50\n",
      "6/6 [==============================] - 15s 3s/step - loss: 0.5904 - accuracy: 0.6667 - val_loss: 0.4617 - val_accuracy: 0.7188\n",
      "Epoch 40/50\n",
      "6/6 [==============================] - 15s 2s/step - loss: 0.5817 - accuracy: 0.7083 - val_loss: 0.3815 - val_accuracy: 0.8438\n",
      "Epoch 41/50\n",
      "6/6 [==============================] - 14s 2s/step - loss: 0.4937 - accuracy: 0.7283 - val_loss: 1.1694 - val_accuracy: 0.5625\n",
      "Epoch 42/50\n",
      "6/6 [==============================] - 14s 2s/step - loss: 0.5767 - accuracy: 0.6719 - val_loss: 0.6298 - val_accuracy: 0.6250\n",
      "Epoch 43/50\n",
      "6/6 [==============================] - 14s 2s/step - loss: 0.5585 - accuracy: 0.7135 - val_loss: 0.4108 - val_accuracy: 0.7500\n",
      "Epoch 44/50\n",
      "6/6 [==============================] - 14s 2s/step - loss: 0.6028 - accuracy: 0.6719 - val_loss: 0.5355 - val_accuracy: 0.5625\n",
      "Epoch 45/50\n",
      "6/6 [==============================] - 13s 2s/step - loss: 0.5786 - accuracy: 0.7120 - val_loss: 0.5084 - val_accuracy: 0.6250\n",
      "Epoch 46/50\n",
      "6/6 [==============================] - 14s 2s/step - loss: 0.5728 - accuracy: 0.7031 - val_loss: 0.4218 - val_accuracy: 0.7812\n",
      "Epoch 47/50\n",
      "6/6 [==============================] - 14s 2s/step - loss: 0.5074 - accuracy: 0.7031 - val_loss: 0.4661 - val_accuracy: 0.6250\n",
      "Epoch 48/50\n",
      "6/6 [==============================] - 14s 2s/step - loss: 0.6020 - accuracy: 0.6615 - val_loss: 0.4666 - val_accuracy: 0.6250\n",
      "Epoch 49/50\n",
      "6/6 [==============================] - 14s 2s/step - loss: 0.5556 - accuracy: 0.6979 - val_loss: 0.3571 - val_accuracy: 0.8125\n",
      "Epoch 50/50\n",
      "6/6 [==============================] - 14s 2s/step - loss: 0.5536 - accuracy: 0.6302 - val_loss: 0.4599 - val_accuracy: 0.7188\n"
     ]
    }
   ],
   "source": [
    "STEP_SIZE_TRAIN = nb_train_samples // batch_size\n",
    "STEP_SIZE_VALID = nb_validation_samples // batch_size\n",
    "history = model.fit_generator(\n",
    "    generator = train_generator,\n",
    "    steps_per_epoch=STEP_SIZE_TRAIN,\n",
    "    epochs=epochs,\n",
    "    validation_data=validation_generator,\n",
    "    validation_steps=STEP_SIZE_VALID)"
   ]
  },
  {
   "cell_type": "code",
   "execution_count": 16,
   "metadata": {},
   "outputs": [
    {
     "name": "stdout",
     "output_type": "stream",
     "text": [
      "WARNING:tensorflow:From <ipython-input-16-5a647d8f6f9c>:1: Model.evaluate_generator (from tensorflow.python.keras.engine.training) is deprecated and will be removed in a future version.\n",
      "Instructions for updating:\n",
      "Please use Model.evaluate, which supports generators.\n"
     ]
    },
    {
     "data": {
      "text/plain": [
       "[0.5232064127922058, 0.6875]"
      ]
     },
     "execution_count": 16,
     "metadata": {},
     "output_type": "execute_result"
    }
   ],
   "source": [
    "model.evaluate_generator(generator=validation_generator,steps=STEP_SIZE_VALID)"
   ]
  },
  {
   "cell_type": "code",
   "execution_count": 17,
   "metadata": {},
   "outputs": [
    {
     "name": "stdout",
     "output_type": "stream",
     "text": [
      "WARNING:tensorflow:From <ipython-input-17-03228ca17ac2>:3: Model.predict_generator (from tensorflow.python.keras.engine.training) is deprecated and will be removed in a future version.\n",
      "Instructions for updating:\n",
      "Please use Model.predict, which supports generators.\n",
      "1/1 [==============================] - 0s 997us/step\n"
     ]
    }
   ],
   "source": [
    "STEP_SIZE_TEST = 1\n",
    "test_generator.reset()\n",
    "pred=model.predict_generator(test_generator,steps=STEP_SIZE_TEST,verbose=1)"
   ]
  },
  {
   "cell_type": "code",
   "execution_count": 18,
   "metadata": {},
   "outputs": [
    {
     "data": {
      "text/plain": [
       "array([[0.306283  ],\n",
       "       [0.40655315],\n",
       "       [0.18302512],\n",
       "       [0.05182928],\n",
       "       [0.39585316],\n",
       "       [0.04220697],\n",
       "       [0.03920349],\n",
       "       [0.13769397],\n",
       "       [0.02692971],\n",
       "       [0.3121286 ],\n",
       "       [0.33184642],\n",
       "       [0.04709494],\n",
       "       [0.03549072],\n",
       "       [0.38171047],\n",
       "       [0.3691078 ],\n",
       "       [0.12865368]], dtype=float32)"
      ]
     },
     "execution_count": 18,
     "metadata": {},
     "output_type": "execute_result"
    }
   ],
   "source": [
    "pred"
   ]
  },
  {
   "cell_type": "code",
   "execution_count": 19,
   "metadata": {},
   "outputs": [
    {
     "data": {
      "text/plain": [
       "array([0, 0, 0, 0, 0, 0, 0, 0, 0, 0, 0, 0, 0, 0, 0, 0], dtype=int64)"
      ]
     },
     "execution_count": 19,
     "metadata": {},
     "output_type": "execute_result"
    }
   ],
   "source": [
    "predicted_class_indices=np.argmax(pred,axis=1)\n",
    "predicted_class_indices"
   ]
  },
  {
   "cell_type": "code",
   "execution_count": 20,
   "metadata": {},
   "outputs": [],
   "source": [
    "labels = (train_generator.class_indices)\n",
    "# labels.keys()\n",
    "target = test_generator.classes"
   ]
  },
  {
   "cell_type": "code",
   "execution_count": 21,
   "metadata": {},
   "outputs": [
    {
     "data": {
      "text/plain": [
       "array([0, 0, 0, 0, 0, 0, 0, 0, 1, 1, 1, 1, 1, 1, 1, 1])"
      ]
     },
     "execution_count": 21,
     "metadata": {},
     "output_type": "execute_result"
    }
   ],
   "source": [
    "target"
   ]
  },
  {
   "cell_type": "code",
   "execution_count": 22,
   "metadata": {},
   "outputs": [],
   "source": [
    "# labels = dict((v,k) for k,v in labels.items())\n",
    "# predictions = [labels[k] for k in predicted_class_indices]\n"
   ]
  },
  {
   "cell_type": "code",
   "execution_count": 23,
   "metadata": {},
   "outputs": [],
   "source": [
    "# predictions"
   ]
  },
  {
   "cell_type": "code",
   "execution_count": 24,
   "metadata": {},
   "outputs": [],
   "source": [
    "# filenames=test_generator.filenames\n",
    "# results=pd.DataFrame({\"Filename\":filenames,\n",
    "#                       \"Predictions\":predictions})\n",
    "# results.to_csv(\"results.csv\",index=False)"
   ]
  },
  {
   "cell_type": "code",
   "execution_count": 25,
   "metadata": {},
   "outputs": [
    {
     "data": {
      "text/plain": [
       "Text(0.5, 0, 'Epoch')"
      ]
     },
     "execution_count": 25,
     "metadata": {},
     "output_type": "execute_result"
    },
    {
     "data": {
      "image/png": "[encoded data removed]",
      "text/plain": [
       "<Figure size 432x288 with 1 Axes>"
      ]
     },
     "metadata": {
      "needs_background": "light"
     },
     "output_type": "display_data"
    }
   ],
   "source": [
    "import matplotlib.pyplot as plt\n",
    "fig = plt.figure()\n",
    "plt.plot(history.history['val_loss'])\n",
    "plt.legend(['validation'], loc='upper left')\n",
    "plt.title('validation loss vs epoch')\n",
    "plt.ylabel('validation loss')\n",
    "plt.xlabel('Epoch')"
   ]
  },
  {
   "cell_type": "code",
   "execution_count": 26,
   "metadata": {},
   "outputs": [
    {
     "data": {
      "text/plain": [
       "Text(0.5, 0, 'Epoch')"
      ]
     },
     "execution_count": 26,
     "metadata": {},
     "output_type": "execute_result"
    },
    {
     "data": {
      "image/png": "[encoded data removed]",
      "text/plain": [
       "<Figure size 432x288 with 1 Axes>"
      ]
     },
     "metadata": {
      "needs_background": "light"
     },
     "output_type": "display_data"
    }
   ],
   "source": [
    "fig = plt.figure()\n",
    "plt.plot(history.history['val_accuracy'])\n",
    "plt.legend(['validation'], loc='upper left')\n",
    "plt.title('validation accuracy vs epoch')\n",
    "plt.ylabel('validation accuracy')\n",
    "plt.xlabel('Epoch')"
   ]
  },
  {
   "cell_type": "code",
   "execution_count": 27,
   "metadata": {
    "scrolled": true
   },
   "outputs": [],
   "source": [
    "# validation_generator[1]"
   ]
  },
  {
   "cell_type": "code",
   "execution_count": 28,
   "metadata": {
    "scrolled": true
   },
   "outputs": [
    {
     "name": "stdout",
     "output_type": "stream",
     "text": [
      "Classification Report: \n",
      "               precision    recall  f1-score   support\n",
      "\n",
      "           0       0.50      1.00      0.67         8\n",
      "           1       0.00      0.00      0.00         8\n",
      "\n",
      "    accuracy                           0.50        16\n",
      "   macro avg       0.25      0.50      0.33        16\n",
      "weighted avg       0.25      0.50      0.33        16\n",
      "\n"
     ]
    },
    {
     "name": "stderr",
     "output_type": "stream",
     "text": [
      "C:\\Users\\prast\\anaconda3\\lib\\site-packages\\sklearn\\metrics\\_classification.py:1245: UndefinedMetricWarning: Precision and F-score are ill-defined and being set to 0.0 in labels with no predicted samples. Use `zero_division` parameter to control this behavior.\n",
      "  _warn_prf(average, modifier, msg_start, len(result))\n",
      "C:\\Users\\prast\\anaconda3\\lib\\site-packages\\sklearn\\metrics\\_classification.py:1245: UndefinedMetricWarning: Precision and F-score are ill-defined and being set to 0.0 in labels with no predicted samples. Use `zero_division` parameter to control this behavior.\n",
      "  _warn_prf(average, modifier, msg_start, len(result))\n",
      "C:\\Users\\prast\\anaconda3\\lib\\site-packages\\sklearn\\metrics\\_classification.py:1245: UndefinedMetricWarning: Precision and F-score are ill-defined and being set to 0.0 in labels with no predicted samples. Use `zero_division` parameter to control this behavior.\n",
      "  _warn_prf(average, modifier, msg_start, len(result))\n"
     ]
    }
   ],
   "source": [
    "from sklearn.metrics import confusion_matrix , classification_report\n",
    "# len(validation_generator[1])\n",
    "# len(predicted_class_indices)\n",
    "print(\"Classification Report: \\n\", classification_report(target, predicted_class_indices))"
   ]
  },
  {
   "cell_type": "code",
   "execution_count": 29,
   "metadata": {},
   "outputs": [],
   "source": [
    "# #Confusion Matrix and Classification Report\n",
    "# Y_pred = model.predict_generator(validation_generator, num_of_test_samples // batch_size+1)\n",
    "# y_pred = np.argmax(Y_pred, axis=1)\n",
    "# print('Confusion Matrix')\n",
    "# print(confusion_matrix(validation_generator.classes, y_pred))\n",
    "# print('Classification Report')\n",
    "# target_names = ['covid', 'normal']\n",
    "# print(classification_report(validation_generator.classes, y_pred, target_names=target_names))"
   ]
  },
  {
   "cell_type": "code",
   "execution_count": null,
   "metadata": {},
   "outputs": [],
   "source": []
  },
  {
   "cell_type": "code",
   "execution_count": null,
   "metadata": {},
   "outputs": [],
   "source": []
  },
  {
   "cell_type": "code",
   "execution_count": null,
   "metadata": {},
   "outputs": [],
   "source": []
  }
 ],
 "metadata": {
  "interpreter": {
   "hash": "fcccc7b9e0429018c410444b41fc09916ab3544e68cfd9bcc8df9f764a1fdba5"
  },
  "kernelspec": {
   "display_name": "Python 3",
   "language": "python",
   "name": "python3"
  },
  "language_info": {
   "codemirror_mode": {
    "name": "ipython",
    "version": 3
   },
   "file_extension": ".py",
   "mimetype": "text/x-python",
   "name": "python",
   "nbconvert_exporter": "python",
   "pygments_lexer": "ipython3",
   "version": "3.8.8"
  }
 },
 "nbformat": 4,
 "nbformat_minor": 2
}
