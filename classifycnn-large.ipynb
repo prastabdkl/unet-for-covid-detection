{
 "cells": [
  {
   "cell_type": "code",
   "execution_count": 1,
   "metadata": {},
   "outputs": [],
   "source": [
    "from keras.preprocessing.image import ImageDataGenerator\n",
    "from keras.models import Sequential\n",
    "from keras.layers import Conv2D, MaxPooling2D\n",
    "from keras.layers import Activation, Dropout, Flatten, Dense\n",
    "from keras import backend as K\n",
    "from tensorflow.keras import datasets, layers, models\n",
    "import numpy as np\n",
    "import pandas as pd\n",
    "from keras.layers import LeakyReLU\n"
   ]
  },
  {
   "cell_type": "code",
   "execution_count": 2,
   "metadata": {},
   "outputs": [],
   "source": [
    "img_width, img_height = 512, 512\n",
    "\n",
    "train_data_dir = r'C:\\Users\\prast\\Downloads\\CS 7000\\Final report\\u-net-code\\unet-for-covid-detection\\dataset\\data_c_vs_nc\\train'\n",
    "validation_data_dir = r'C:\\Users\\prast\\Downloads\\CS 7000\\Final report\\u-net-code\\unet-for-covid-detection\\dataset\\data_c_vs_nc\\validate'\n",
    "test_data_dir = r\"C:\\Users\\prast\\Downloads\\CS 7000\\Final report\\u-net-code\\unet-for-covid-detection\\dataset\\data_c_vs_nc\\test\""
   ]
  },
  {
   "cell_type": "code",
   "execution_count": 3,
   "metadata": {},
   "outputs": [],
   "source": [
    "# img_width, img_height = 512, 512\n",
    "\n",
    "# train_data_dir = r\"C:\\Users\\prast\\Downloads\\CS 7000\\Final report\\u-net-code\\unet-for-covid-detection\\finaldata\\train\"\n",
    "# validation_data_dir = r'C:\\Users\\prast\\Downloads\\CS 7000\\Final report\\u-net-code\\unet-for-covid-detection\\finaldata\\val'\n",
    "# test_data_dir = r\"C:\\Users\\prast\\Downloads\\CS 7000\\Final report\\u-net-code\\unet-for-covid-detection\\finaldata\\test\""
   ]
  },
  {
   "cell_type": "code",
   "execution_count": 4,
   "metadata": {},
   "outputs": [],
   "source": [
    "nb_train_samples = 204\n",
    "nb_validation_samples = 40\n",
    "num_of_test_samples = 16\n",
    "epochs = 50\n",
    "batch_size = 32"
   ]
  },
  {
   "cell_type": "code",
   "execution_count": 5,
   "metadata": {},
   "outputs": [],
   "source": [
    "if K.image_data_format() == 'channels_first':\n",
    "    input_shape = (1, img_width, img_height)\n",
    "else:\n",
    "    input_shape = (img_width, img_height, 1)"
   ]
  },
  {
   "cell_type": "code",
   "execution_count": 6,
   "metadata": {},
   "outputs": [
    {
     "data": {
      "text/plain": [
       "(512, 512, 1)"
      ]
     },
     "execution_count": 6,
     "metadata": {},
     "output_type": "execute_result"
    }
   ],
   "source": [
    "input_shape"
   ]
  },
  {
   "cell_type": "code",
   "execution_count": 7,
   "metadata": {},
   "outputs": [],
   "source": [
    "# model = Sequential()\n",
    "# model.add(Conv2D(32, (3, 3), input_shape=input_shape))\n",
    "# model.add(Activation('relu'))\n",
    "# model.add(MaxPooling2D(pool_size=(2, 2)))\n",
    "\n",
    "# model.add(Conv2D(32, (3, 3)))\n",
    "# model.add(Activation('relu'))\n",
    "# model.add(MaxPooling2D(pool_size=(2, 2)))\n",
    "\n",
    "# model.add(Conv2D(64, (3, 3)))\n",
    "# model.add(Activation('relu'))\n",
    "# model.add(MaxPooling2D(pool_size=(2, 2)))\n",
    "\n",
    "# model.add(Flatten())\n",
    "# model.add(Dense(64))\n",
    "# model.add(Activation('relu'))\n",
    "# model.add(Dropout(0.5))\n",
    "# model.add(Dense(1))\n",
    "# model.add(Activation('sigmoid'))"
   ]
  },
  {
   "cell_type": "code",
   "execution_count": 8,
   "metadata": {},
   "outputs": [],
   "source": [
    "model = Sequential()\n",
    "model.add(Conv2D(32, (3, 3), input_shape=input_shape))\n",
    "model.add(LeakyReLU(alpha=0.1))\n",
    "# model.add(Activation('relu'))\n",
    "model.add(MaxPooling2D(pool_size=(2, 2)))\n",
    "\n",
    "model.add(Conv2D(32, (3, 3)))\n",
    "model.add(LeakyReLU(alpha=0.1))\n",
    "# model.add(Activation('relu'))\n",
    "model.add(MaxPooling2D(pool_size=(2, 2)))\n",
    "\n",
    "model.add(Conv2D(64, (3, 3)))\n",
    "# model.add(Activation('relu'))\n",
    "model.add(LeakyReLU(alpha=0.1))\n",
    "model.add(MaxPooling2D(pool_size=(2, 2)))\n",
    "\n",
    "model.add(Flatten())\n",
    "model.add(Dense(64))\n",
    "model.add(LeakyReLU(alpha=0.1))\n",
    "# model.add(Activation('relu'))\n",
    "model.add(Dropout(0.5))\n",
    "model.add(Dense(1))\n",
    "model.add(Activation('sigmoid'))"
   ]
  },
  {
   "cell_type": "code",
   "execution_count": 9,
   "metadata": {},
   "outputs": [],
   "source": [
    "#model.summary()"
   ]
  },
  {
   "cell_type": "code",
   "execution_count": 10,
   "metadata": {},
   "outputs": [],
   "source": [
    "model.compile(loss='binary_crossentropy',\n",
    "              optimizer='rmsprop',\n",
    "              metrics=['accuracy'])"
   ]
  },
  {
   "cell_type": "code",
   "execution_count": 11,
   "metadata": {},
   "outputs": [],
   "source": [
    "train_datagen = ImageDataGenerator(\n",
    "    rescale=1. / 255,\n",
    "    shear_range=0.2,\n",
    "    zoom_range=0.2,\n",
    "    rotation_range = 0.1)"
   ]
  },
  {
   "cell_type": "code",
   "execution_count": 12,
   "metadata": {},
   "outputs": [],
   "source": [
    "test_datagen = ImageDataGenerator(rescale=1. / 255)"
   ]
  },
  {
   "cell_type": "code",
   "execution_count": 13,
   "metadata": {},
   "outputs": [
    {
     "name": "stdout",
     "output_type": "stream",
     "text": [
      "Found 244 images belonging to 2 classes.\n"
     ]
    }
   ],
   "source": [
    "train_generator = train_datagen.flow_from_directory(\n",
    "    train_data_dir,\n",
    "    target_size=(img_width, img_height),\n",
    "    batch_size=batch_size,\n",
    "    class_mode='binary',\n",
    "    color_mode ='grayscale')"
   ]
  },
  {
   "cell_type": "code",
   "execution_count": 14,
   "metadata": {},
   "outputs": [
    {
     "name": "stdout",
     "output_type": "stream",
     "text": [
      "Found 40 images belonging to 2 classes.\n"
     ]
    }
   ],
   "source": [
    "validation_generator = test_datagen.flow_from_directory(\n",
    "    validation_data_dir,\n",
    "    target_size=(img_width, img_height),\n",
    "    batch_size=batch_size,\n",
    "    class_mode='binary',\n",
    "    color_mode='grayscale')"
   ]
  },
  {
   "cell_type": "code",
   "execution_count": 15,
   "metadata": {},
   "outputs": [
    {
     "name": "stdout",
     "output_type": "stream",
     "text": [
      "Found 16 images belonging to 2 classes.\n"
     ]
    }
   ],
   "source": [
    "test_generator = test_datagen.flow_from_directory(\n",
    "    directory=test_data_dir,\n",
    "    target_size=(img_width, img_height),\n",
    "    batch_size=batch_size,\n",
    "    class_mode='binary',\n",
    "    color_mode='grayscale'\n",
    ")"
   ]
  },
  {
   "cell_type": "code",
   "execution_count": 16,
   "metadata": {
    "scrolled": true
   },
   "outputs": [
    {
     "name": "stdout",
     "output_type": "stream",
     "text": [
      "WARNING:tensorflow:From <ipython-input-16-f5858924dfc2>:3: Model.fit_generator (from tensorflow.python.keras.engine.training) is deprecated and will be removed in a future version.\n",
      "Instructions for updating:\n",
      "Please use Model.fit, which supports generators.\n",
      "Epoch 1/50\n",
      "6/6 [==============================] - 26s 4s/step - loss: 10.5901 - accuracy: 0.5260 - val_loss: 1.1367 - val_accuracy: 0.5938\n",
      "Epoch 2/50\n",
      "6/6 [==============================] - 22s 4s/step - loss: 0.7534 - accuracy: 0.6444 - val_loss: 0.7315 - val_accuracy: 0.5938\n",
      "Epoch 3/50\n",
      "6/6 [==============================] - 23s 4s/step - loss: 0.6588 - accuracy: 0.6722 - val_loss: 0.7996 - val_accuracy: 0.5312\n",
      "Epoch 4/50\n",
      "6/6 [==============================] - 24s 4s/step - loss: 0.6683 - accuracy: 0.6771 - val_loss: 0.7421 - val_accuracy: 0.6250\n",
      "Epoch 5/50\n",
      "6/6 [==============================] - 23s 4s/step - loss: 0.6398 - accuracy: 0.7031 - val_loss: 0.6613 - val_accuracy: 0.6250\n",
      "Epoch 6/50\n",
      "6/6 [==============================] - 23s 4s/step - loss: 0.6380 - accuracy: 0.6667 - val_loss: 0.6809 - val_accuracy: 0.6250\n",
      "Epoch 7/50\n",
      "6/6 [==============================] - 21s 4s/step - loss: 2.2646 - accuracy: 0.5833 - val_loss: 1.0770 - val_accuracy: 0.6562\n",
      "Epoch 8/50\n",
      "6/6 [==============================] - 22s 4s/step - loss: 0.7890 - accuracy: 0.6167 - val_loss: 0.8607 - val_accuracy: 0.5938\n",
      "Epoch 9/50\n",
      "6/6 [==============================] - 22s 4s/step - loss: 0.7022 - accuracy: 0.6278 - val_loss: 0.7110 - val_accuracy: 0.5625\n",
      "Epoch 10/50\n",
      "6/6 [==============================] - 40s 7s/step - loss: 0.6701 - accuracy: 0.6250 - val_loss: 0.7572 - val_accuracy: 0.5312\n",
      "Epoch 11/50\n",
      "6/6 [==============================] - 24s 4s/step - loss: 0.6682 - accuracy: 0.6222 - val_loss: 0.7358 - val_accuracy: 0.5312\n",
      "Epoch 12/50\n",
      "6/6 [==============================] - 23s 4s/step - loss: 0.6855 - accuracy: 0.6556 - val_loss: 0.6646 - val_accuracy: 0.6562\n",
      "Epoch 13/50\n",
      "6/6 [==============================] - 24s 4s/step - loss: 0.6764 - accuracy: 0.6222 - val_loss: 0.7163 - val_accuracy: 0.5625\n",
      "Epoch 14/50\n",
      "6/6 [==============================] - 21s 4s/step - loss: 0.6335 - accuracy: 0.6833 - val_loss: 0.9965 - val_accuracy: 0.6250\n",
      "Epoch 15/50\n",
      "6/6 [==============================] - 20s 3s/step - loss: 0.6651 - accuracy: 0.7056 - val_loss: 0.7006 - val_accuracy: 0.5312\n",
      "Epoch 16/50\n",
      "6/6 [==============================] - 21s 3s/step - loss: 0.6415 - accuracy: 0.6778 - val_loss: 0.8127 - val_accuracy: 0.5312\n",
      "Epoch 17/50\n",
      "6/6 [==============================] - 21s 3s/step - loss: 0.6516 - accuracy: 0.6556 - val_loss: 0.8086 - val_accuracy: 0.4688\n",
      "Epoch 18/50\n",
      "6/6 [==============================] - 23s 4s/step - loss: 0.9976 - accuracy: 0.5278 - val_loss: 0.7188 - val_accuracy: 0.6250\n",
      "Epoch 19/50\n",
      "6/6 [==============================] - 22s 4s/step - loss: 0.6426 - accuracy: 0.6889 - val_loss: 0.7108 - val_accuracy: 0.5625\n",
      "Epoch 20/50\n",
      "6/6 [==============================] - 20s 3s/step - loss: 0.6053 - accuracy: 0.6667 - val_loss: 0.6682 - val_accuracy: 0.6250\n",
      "Epoch 21/50\n",
      "6/6 [==============================] - 22s 4s/step - loss: 0.8479 - accuracy: 0.6722 - val_loss: 0.6533 - val_accuracy: 0.5938\n",
      "Epoch 22/50\n",
      "6/6 [==============================] - 22s 4s/step - loss: 0.6689 - accuracy: 0.5944 - val_loss: 0.6877 - val_accuracy: 0.5625\n",
      "Epoch 23/50\n",
      "6/6 [==============================] - 21s 4s/step - loss: 0.7375 - accuracy: 0.5833 - val_loss: 0.6914 - val_accuracy: 0.5938\n",
      "Epoch 24/50\n",
      "6/6 [==============================] - 22s 4s/step - loss: 0.6596 - accuracy: 0.6278 - val_loss: 0.6850 - val_accuracy: 0.5938\n",
      "Epoch 25/50\n",
      "6/6 [==============================] - 22s 4s/step - loss: 0.6394 - accuracy: 0.6611 - val_loss: 0.6673 - val_accuracy: 0.5938\n",
      "Epoch 26/50\n",
      "6/6 [==============================] - 21s 3s/step - loss: 0.5884 - accuracy: 0.6833 - val_loss: 0.7699 - val_accuracy: 0.5312\n",
      "Epoch 27/50\n",
      "6/6 [==============================] - 22s 4s/step - loss: 0.6984 - accuracy: 0.6444 - val_loss: 0.7653 - val_accuracy: 0.5312\n",
      "Epoch 28/50\n",
      "6/6 [==============================] - 22s 4s/step - loss: 0.6150 - accuracy: 0.6778 - val_loss: 0.6752 - val_accuracy: 0.5938\n",
      "Epoch 29/50\n",
      "6/6 [==============================] - 21s 4s/step - loss: 0.7417 - accuracy: 0.6556 - val_loss: 1.0443 - val_accuracy: 0.5000\n",
      "Epoch 30/50\n",
      "6/6 [==============================] - 21s 4s/step - loss: 0.6535 - accuracy: 0.6833 - val_loss: 0.7351 - val_accuracy: 0.5625\n",
      "Epoch 31/50\n",
      "6/6 [==============================] - 22s 4s/step - loss: 0.6841 - accuracy: 0.6556 - val_loss: 0.6372 - val_accuracy: 0.6562\n",
      "Epoch 32/50\n",
      "6/6 [==============================] - 23s 4s/step - loss: 0.6250 - accuracy: 0.6500 - val_loss: 0.6686 - val_accuracy: 0.5938\n",
      "Epoch 33/50\n",
      "6/6 [==============================] - 21s 4s/step - loss: 0.5654 - accuracy: 0.7000 - val_loss: 0.6510 - val_accuracy: 0.5938\n",
      "Epoch 34/50\n",
      "6/6 [==============================] - 24s 4s/step - loss: 0.6125 - accuracy: 0.6389 - val_loss: 0.6802 - val_accuracy: 0.5312\n",
      "Epoch 35/50\n",
      "6/6 [==============================] - 22s 4s/step - loss: 0.5909 - accuracy: 0.6778 - val_loss: 0.9003 - val_accuracy: 0.5938\n",
      "Epoch 36/50\n",
      "6/6 [==============================] - 22s 4s/step - loss: 0.5940 - accuracy: 0.6889 - val_loss: 2.3491 - val_accuracy: 0.6250\n",
      "Epoch 37/50\n",
      "6/6 [==============================] - 22s 4s/step - loss: 1.6265 - accuracy: 0.6278 - val_loss: 0.6740 - val_accuracy: 0.6250\n",
      "Epoch 38/50\n",
      "6/6 [==============================] - 22s 4s/step - loss: 0.6099 - accuracy: 0.6889 - val_loss: 0.6848 - val_accuracy: 0.5938\n",
      "Epoch 39/50\n",
      "6/6 [==============================] - 22s 4s/step - loss: 0.6327 - accuracy: 0.6778 - val_loss: 0.6735 - val_accuracy: 0.5938\n",
      "Epoch 40/50\n",
      "6/6 [==============================] - 21s 4s/step - loss: 0.5961 - accuracy: 0.6833 - val_loss: 0.6245 - val_accuracy: 0.6250\n",
      "Epoch 41/50\n",
      "6/6 [==============================] - 22s 4s/step - loss: 0.5751 - accuracy: 0.7111 - val_loss: 0.6182 - val_accuracy: 0.7188\n",
      "Epoch 42/50\n",
      "6/6 [==============================] - 23s 4s/step - loss: 0.5475 - accuracy: 0.7278 - val_loss: 0.5779 - val_accuracy: 0.7500\n",
      "Epoch 43/50\n",
      "6/6 [==============================] - 22s 4s/step - loss: 0.5559 - accuracy: 0.6778 - val_loss: 0.9419 - val_accuracy: 0.5625\n",
      "Epoch 44/50\n",
      "6/6 [==============================] - 23s 4s/step - loss: 0.5773 - accuracy: 0.6927 - val_loss: 0.9020 - val_accuracy: 0.6562\n",
      "Epoch 45/50\n",
      "6/6 [==============================] - 22s 4s/step - loss: 0.6008 - accuracy: 0.6889 - val_loss: 0.6061 - val_accuracy: 0.7500\n",
      "Epoch 46/50\n",
      "6/6 [==============================] - 22s 4s/step - loss: 0.5362 - accuracy: 0.7278 - val_loss: 0.9800 - val_accuracy: 0.5938\n",
      "Epoch 47/50\n",
      "6/6 [==============================] - 21s 4s/step - loss: 0.5513 - accuracy: 0.7278 - val_loss: 0.6641 - val_accuracy: 0.5938\n",
      "Epoch 48/50\n",
      "6/6 [==============================] - 21s 4s/step - loss: 0.6033 - accuracy: 0.7222 - val_loss: 0.8250 - val_accuracy: 0.5625\n",
      "Epoch 49/50\n",
      "6/6 [==============================] - 24s 4s/step - loss: 0.6825 - accuracy: 0.6333 - val_loss: 0.5624 - val_accuracy: 0.7500\n",
      "Epoch 50/50\n",
      "6/6 [==============================] - 21s 4s/step - loss: 0.6054 - accuracy: 0.7056 - val_loss: 0.6045 - val_accuracy: 0.6250\n"
     ]
    }
   ],
   "source": [
    "STEP_SIZE_TRAIN = nb_train_samples // batch_size\n",
    "STEP_SIZE_VALID = nb_validation_samples // batch_size\n",
    "history = model.fit_generator(\n",
    "    generator = train_generator,\n",
    "    steps_per_epoch=STEP_SIZE_TRAIN,\n",
    "    epochs=epochs,\n",
    "    validation_data=validation_generator,\n",
    "    validation_steps=STEP_SIZE_VALID)"
   ]
  },
  {
   "cell_type": "code",
   "execution_count": 17,
   "metadata": {},
   "outputs": [
    {
     "name": "stdout",
     "output_type": "stream",
     "text": [
      "WARNING:tensorflow:From <ipython-input-17-5a647d8f6f9c>:1: Model.evaluate_generator (from tensorflow.python.keras.engine.training) is deprecated and will be removed in a future version.\n",
      "Instructions for updating:\n",
      "Please use Model.evaluate, which supports generators.\n"
     ]
    },
    {
     "data": {
      "text/plain": [
       "[0.6571517586708069, 0.59375]"
      ]
     },
     "execution_count": 17,
     "metadata": {},
     "output_type": "execute_result"
    }
   ],
   "source": [
    "model.evaluate_generator(generator=validation_generator,steps=STEP_SIZE_VALID)"
   ]
  },
  {
   "cell_type": "code",
   "execution_count": 18,
   "metadata": {},
   "outputs": [
    {
     "name": "stdout",
     "output_type": "stream",
     "text": [
      "WARNING:tensorflow:From <ipython-input-18-03228ca17ac2>:3: Model.predict_generator (from tensorflow.python.keras.engine.training) is deprecated and will be removed in a future version.\n",
      "Instructions for updating:\n",
      "Please use Model.predict, which supports generators.\n",
      "1/1 [==============================] - 0s 0s/step\n"
     ]
    }
   ],
   "source": [
    "STEP_SIZE_TEST = 1\n",
    "test_generator.reset()\n",
    "pred=model.predict_generator(test_generator,steps=STEP_SIZE_TEST,verbose=1)"
   ]
  },
  {
   "cell_type": "code",
   "execution_count": 19,
   "metadata": {},
   "outputs": [
    {
     "data": {
      "text/plain": [
       "array([[0.39557862],\n",
       "       [0.33277583],\n",
       "       [0.466149  ],\n",
       "       [0.41847008],\n",
       "       [0.06475836],\n",
       "       [0.4468341 ],\n",
       "       [0.26378345],\n",
       "       [0.29070652],\n",
       "       [0.17891061],\n",
       "       [0.319897  ],\n",
       "       [0.30312085],\n",
       "       [0.41833866],\n",
       "       [0.45371538],\n",
       "       [0.0576376 ],\n",
       "       [0.3992497 ],\n",
       "       [0.15588853]], dtype=float32)"
      ]
     },
     "execution_count": 19,
     "metadata": {},
     "output_type": "execute_result"
    }
   ],
   "source": [
    "pred"
   ]
  },
  {
   "cell_type": "code",
   "execution_count": 20,
   "metadata": {},
   "outputs": [
    {
     "data": {
      "text/plain": [
       "array([0, 0, 0, 0, 0, 0, 0, 0, 0, 0, 0, 0, 0, 0, 0, 0], dtype=int64)"
      ]
     },
     "execution_count": 20,
     "metadata": {},
     "output_type": "execute_result"
    }
   ],
   "source": [
    "predicted_class_indices=np.argmax(pred,axis=1)\n",
    "predicted_class_indices"
   ]
  },
  {
   "cell_type": "code",
   "execution_count": 21,
   "metadata": {},
   "outputs": [],
   "source": [
    "labels = (train_generator.class_indices)\n",
    "# labels.keys()\n",
    "target = test_generator.classes"
   ]
  },
  {
   "cell_type": "code",
   "execution_count": 22,
   "metadata": {},
   "outputs": [
    {
     "data": {
      "text/plain": [
       "array([0, 0, 0, 0, 0, 0, 0, 0, 0, 0, 1, 1, 1, 1, 1, 1])"
      ]
     },
     "execution_count": 22,
     "metadata": {},
     "output_type": "execute_result"
    }
   ],
   "source": [
    "target"
   ]
  },
  {
   "cell_type": "code",
   "execution_count": 23,
   "metadata": {},
   "outputs": [],
   "source": [
    "# labels = dict((v,k) for k,v in labels.items())\n",
    "# predictions = [labels[k] for k in predicted_class_indices]\n"
   ]
  },
  {
   "cell_type": "code",
   "execution_count": 24,
   "metadata": {},
   "outputs": [],
   "source": [
    "# predictions"
   ]
  },
  {
   "cell_type": "code",
   "execution_count": 25,
   "metadata": {},
   "outputs": [],
   "source": [
    "# filenames=test_generator.filenames\n",
    "# results=pd.DataFrame({\"Filename\":filenames,\n",
    "#                       \"Predictions\":predictions})\n",
    "# results.to_csv(\"results.csv\",index=False)"
   ]
  },
  {
   "cell_type": "code",
   "execution_count": 26,
   "metadata": {},
   "outputs": [
    {
     "data": {
      "text/plain": [
       "Text(0.5, 0, 'Epoch')"
      ]
     },
     "execution_count": 26,
     "metadata": {},
     "output_type": "execute_result"
    },
    {
     "data": {
      "image/png": "[encoded data removed]",
      "text/plain": [
       "<Figure size 432x288 with 1 Axes>"
      ]
     },
     "metadata": {
      "needs_background": "light"
     },
     "output_type": "display_data"
    }
   ],
   "source": [
    "import matplotlib.pyplot as plt\n",
    "fig = plt.figure()\n",
    "plt.plot(history.history['val_loss'])\n",
    "plt.legend(['validation'], loc='upper left')\n",
    "plt.title('validation loss vs epoch')\n",
    "plt.ylabel('validation loss')\n",
    "plt.xlabel('Epoch')"
   ]
  },
  {
   "cell_type": "code",
   "execution_count": 27,
   "metadata": {},
   "outputs": [
    {
     "data": {
      "text/plain": [
       "Text(0.5, 0, 'Epoch')"
      ]
     },
     "execution_count": 27,
     "metadata": {},
     "output_type": "execute_result"
    },
    {
     "data": {
      "image/png": "[encoded data removed]",
      "text/plain": [
       "<Figure size 432x288 with 1 Axes>"
      ]
     },
     "metadata": {
      "needs_background": "light"
     },
     "output_type": "display_data"
    }
   ],
   "source": [
    "fig = plt.figure()\n",
    "plt.plot(history.history['val_accuracy'])\n",
    "plt.legend(['validation'], loc='upper left')\n",
    "plt.title('validation accuracy vs epoch')\n",
    "plt.ylabel('validation accuracy')\n",
    "plt.xlabel('Epoch')"
   ]
  },
  {
   "cell_type": "code",
   "execution_count": 28,
   "metadata": {
    "scrolled": true
   },
   "outputs": [],
   "source": [
    "# validation_generator[1]"
   ]
  },
  {
   "cell_type": "code",
   "execution_count": 29,
   "metadata": {
    "scrolled": true
   },
   "outputs": [
    {
     "name": "stdout",
     "output_type": "stream",
     "text": [
      "Classification Report: \n",
      "               precision    recall  f1-score   support\n",
      "\n",
      "           0       0.62      1.00      0.77        10\n",
      "           1       0.00      0.00      0.00         6\n",
      "\n",
      "    accuracy                           0.62        16\n",
      "   macro avg       0.31      0.50      0.38        16\n",
      "weighted avg       0.39      0.62      0.48        16\n",
      "\n"
     ]
    },
    {
     "name": "stderr",
     "output_type": "stream",
     "text": [
      "C:\\Users\\prast\\anaconda3\\lib\\site-packages\\sklearn\\metrics\\_classification.py:1245: UndefinedMetricWarning: Precision and F-score are ill-defined and being set to 0.0 in labels with no predicted samples. Use `zero_division` parameter to control this behavior.\n",
      "  _warn_prf(average, modifier, msg_start, len(result))\n",
      "C:\\Users\\prast\\anaconda3\\lib\\site-packages\\sklearn\\metrics\\_classification.py:1245: UndefinedMetricWarning: Precision and F-score are ill-defined and being set to 0.0 in labels with no predicted samples. Use `zero_division` parameter to control this behavior.\n",
      "  _warn_prf(average, modifier, msg_start, len(result))\n",
      "C:\\Users\\prast\\anaconda3\\lib\\site-packages\\sklearn\\metrics\\_classification.py:1245: UndefinedMetricWarning: Precision and F-score are ill-defined and being set to 0.0 in labels with no predicted samples. Use `zero_division` parameter to control this behavior.\n",
      "  _warn_prf(average, modifier, msg_start, len(result))\n"
     ]
    }
   ],
   "source": [
    "from sklearn.metrics import confusion_matrix , classification_report\n",
    "# len(validation_generator[1])\n",
    "# len(predicted_class_indices)\n",
    "print(\"Classification Report: \\n\", classification_report(target, predicted_class_indices))"
   ]
  },
  {
   "cell_type": "code",
   "execution_count": 30,
   "metadata": {},
   "outputs": [],
   "source": [
    "# #Confusion Matrix and Classification Report\n",
    "# Y_pred = model.predict_generator(validation_generator, num_of_test_samples // batch_size+1)\n",
    "# y_pred = np.argmax(Y_pred, axis=1)\n",
    "# print('Confusion Matrix')\n",
    "# print(confusion_matrix(validation_generator.classes, y_pred))\n",
    "# print('Classification Report')\n",
    "# target_names = ['covid', 'normal']\n",
    "# print(classification_report(validation_generator.classes, y_pred, target_names=target_names))"
   ]
  },
  {
   "cell_type": "code",
   "execution_count": 31,
   "metadata": {},
   "outputs": [],
   "source": [
    "from sklearn.metrics import roc_curve,roc_auc_score\n"
   ]
  },
  {
   "cell_type": "code",
   "execution_count": 32,
   "metadata": {},
   "outputs": [],
   "source": [
    "fpr , tpr , thresholds = roc_curve ( target , predicted_class_indices)\n"
   ]
  },
  {
   "cell_type": "code",
   "execution_count": 33,
   "metadata": {},
   "outputs": [
    {
     "data": {
      "image/png": "[encoded data removed]",
      "text/plain": [
       "<Figure size 432x288 with 1 Axes>"
      ]
     },
     "metadata": {
      "needs_background": "light"
     },
     "output_type": "display_data"
    }
   ],
   "source": [
    "def plot_roc_curve(fpr,tpr): \n",
    "    plt.plot(fpr,tpr) \n",
    "    plt.axis([0,1,0,1]) \n",
    "    plt.xlabel('False Positive Rate') \n",
    "    plt.ylabel('True Positive Rate')\n",
    "    plt.title('ROC Curve')\n",
    "    plt.show()    \n",
    "  \n",
    "plot_roc_curve (fpr,tpr) "
   ]
  },
  {
   "cell_type": "code",
   "execution_count": 34,
   "metadata": {},
   "outputs": [
    {
     "data": {
      "text/plain": [
       "0.5"
      ]
     },
     "execution_count": 34,
     "metadata": {},
     "output_type": "execute_result"
    }
   ],
   "source": [
    "auc_score=roc_auc_score(target,predicted_class_indices) \n",
    "auc_score"
   ]
  },
  {
   "cell_type": "code",
   "execution_count": 35,
   "metadata": {},
   "outputs": [
    {
     "data": {
      "image/png": "[encoded data removed]",
      "text/plain": [
       "<Figure size 432x288 with 1 Axes>"
      ]
     },
     "metadata": {
      "needs_background": "light"
     },
     "output_type": "display_data"
    }
   ],
   "source": [
    "from sklearn.metrics import precision_recall_curve\n",
    "from sklearn.metrics import PrecisionRecallDisplay\n",
    "\n",
    "prec, recall, _ = precision_recall_curve(target, predicted_class_indices)\n",
    "pr_display = PrecisionRecallDisplay(precision=prec, recall=recall).plot()"
   ]
  },
  {
   "cell_type": "code",
   "execution_count": null,
   "metadata": {},
   "outputs": [],
   "source": []
  }
 ],
 "metadata": {
  "interpreter": {
   "hash": "fcccc7b9e0429018c410444b41fc09916ab3544e68cfd9bcc8df9f764a1fdba5"
  },
  "kernelspec": {
   "display_name": "Python 3",
   "language": "python",
   "name": "python3"
  },
  "language_info": {
   "codemirror_mode": {
    "name": "ipython",
    "version": 3
   },
   "file_extension": ".py",
   "mimetype": "text/x-python",
   "name": "python",
   "nbconvert_exporter": "python",
   "pygments_lexer": "ipython3",
   "version": "3.8.8"
  }
 },
 "nbformat": 4,
 "nbformat_minor": 2
}
