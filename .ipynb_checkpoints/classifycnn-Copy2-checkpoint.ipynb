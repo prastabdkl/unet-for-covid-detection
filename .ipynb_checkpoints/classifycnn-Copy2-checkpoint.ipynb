{
 "cells": [
  {
   "cell_type": "code",
   "execution_count": 223,
   "metadata": {},
   "outputs": [],
   "source": [
    "from keras.preprocessing.image import ImageDataGenerator\n",
    "from keras.models import Sequential\n",
    "from keras.layers import Conv2D, MaxPooling2D\n",
    "from keras.layers import Activation, Dropout, Flatten, Dense\n",
    "from keras import backend as K\n",
    "from tensorflow.keras import datasets, layers, models\n",
    "import numpy as np\n",
    "import pandas as pd"
   ]
  },
  {
   "cell_type": "code",
   "execution_count": 224,
   "metadata": {},
   "outputs": [],
   "source": [
    "img_width, img_height = 512, 512\n",
    "\n",
    "train_data_dir = r'C:\\Users\\prast\\Downloads\\CS 7000\\Final report\\u-net-code\\unet-for-covid-detection\\dataset\\data_c_vs_nc\\train'\n",
    "validation_data_dir = r'C:\\Users\\prast\\Downloads\\CS 7000\\Final report\\u-net-code\\unet-for-covid-detection\\dataset\\data_c_vs_nc\\validate'\n",
    "test_data_dir = r\"C:\\Users\\prast\\Downloads\\CS 7000\\Final report\\u-net-code\\unet-for-covid-detection\\dataset\\data_c_vs_nc\\test\""
   ]
  },
  {
   "cell_type": "code",
   "execution_count": 225,
   "metadata": {},
   "outputs": [],
   "source": [
    "nb_train_samples = 204\n",
    "nb_validation_samples = 40\n",
    "num_of_test_samples = 16\n",
    "epochs =40\n",
    "batch_size = 16"
   ]
  },
  {
   "cell_type": "code",
   "execution_count": 226,
   "metadata": {},
   "outputs": [],
   "source": [
    "if K.image_data_format() == 'channels_first':\n",
    "    input_shape = (1, img_width, img_height)\n",
    "else:\n",
    "    input_shape = (img_width, img_height, 1)"
   ]
  },
  {
   "cell_type": "code",
   "execution_count": 227,
   "metadata": {},
   "outputs": [
    {
     "data": {
      "text/plain": [
       "(512, 512, 1)"
      ]
     },
     "execution_count": 227,
     "metadata": {},
     "output_type": "execute_result"
    }
   ],
   "source": [
    "input_shape"
   ]
  },
  {
   "cell_type": "code",
   "execution_count": 228,
   "metadata": {},
   "outputs": [],
   "source": [
    "model = Sequential()\n",
    "model.add(Conv2D(32, (3, 3), input_shape=input_shape))\n",
    "model.add(Activation('relu'))\n",
    "model.add(MaxPooling2D(pool_size=(2, 2)))\n",
    "\n",
    "model.add(Conv2D(32, (3, 3)))\n",
    "model.add(Activation('relu'))\n",
    "model.add(MaxPooling2D(pool_size=(2, 2)))\n",
    "\n",
    "model.add(Conv2D(64, (3, 3)))\n",
    "model.add(Activation('relu'))\n",
    "model.add(MaxPooling2D(pool_size=(2, 2)))\n",
    "\n",
    "model.add(Flatten())\n",
    "model.add(Dense(64))\n",
    "model.add(Activation('relu'))\n",
    "model.add(Dropout(0.5))\n",
    "model.add(Dense(1))\n",
    "model.add(Activation('sigmoid'))"
   ]
  },
  {
   "cell_type": "code",
   "execution_count": 229,
   "metadata": {},
   "outputs": [],
   "source": [
    "#model.summary()"
   ]
  },
  {
   "cell_type": "code",
   "execution_count": 230,
   "metadata": {},
   "outputs": [],
   "source": [
    "model.compile(loss='binary_crossentropy',\n",
    "              optimizer='rmsprop',\n",
    "              metrics=['accuracy'])"
   ]
  },
  {
   "cell_type": "code",
   "execution_count": 231,
   "metadata": {},
   "outputs": [],
   "source": [
    "train_datagen = ImageDataGenerator(\n",
    "    rescale=1. / 255,\n",
    "    shear_range=0.2,\n",
    "    zoom_range=0.2,\n",
    "    rotation_range = 0.1)"
   ]
  },
  {
   "cell_type": "code",
   "execution_count": 232,
   "metadata": {},
   "outputs": [],
   "source": [
    "test_datagen = ImageDataGenerator(rescale=1. / 255)"
   ]
  },
  {
   "cell_type": "code",
   "execution_count": 233,
   "metadata": {},
   "outputs": [
    {
     "name": "stdout",
     "output_type": "stream",
     "text": [
      "Found 244 images belonging to 2 classes.\n"
     ]
    }
   ],
   "source": [
    "train_generator = train_datagen.flow_from_directory(\n",
    "    train_data_dir,\n",
    "    target_size=(img_width, img_height),\n",
    "    batch_size=batch_size,\n",
    "    class_mode='binary',\n",
    "    color_mode ='grayscale')"
   ]
  },
  {
   "cell_type": "code",
   "execution_count": 234,
   "metadata": {},
   "outputs": [
    {
     "name": "stdout",
     "output_type": "stream",
     "text": [
      "Found 40 images belonging to 2 classes.\n"
     ]
    }
   ],
   "source": [
    "validation_generator = test_datagen.flow_from_directory(\n",
    "    validation_data_dir,\n",
    "    target_size=(img_width, img_height),\n",
    "    batch_size=batch_size,\n",
    "    class_mode='binary',\n",
    "    color_mode='grayscale')"
   ]
  },
  {
   "cell_type": "code",
   "execution_count": 235,
   "metadata": {},
   "outputs": [
    {
     "name": "stdout",
     "output_type": "stream",
     "text": [
      "Found 16 images belonging to 2 classes.\n"
     ]
    }
   ],
   "source": [
    "test_generator = test_datagen.flow_from_directory(\n",
    "    directory=test_data_dir,\n",
    "    target_size=(img_width, img_height),\n",
    "    batch_size=batch_size,\n",
    "    class_mode='binary',\n",
    "    color_mode='grayscale'\n",
    ")"
   ]
  },
  {
   "cell_type": "code",
   "execution_count": null,
   "metadata": {},
   "outputs": [
    {
     "name": "stdout",
     "output_type": "stream",
     "text": [
      "Epoch 1/40\n",
      "12/12 [==============================] - 22s 2s/step - loss: 1.6126 - accuracy: 0.6278 - val_loss: 0.8044 - val_accuracy: 0.5938\n",
      "Epoch 2/40\n",
      "12/12 [==============================] - 21s 2s/step - loss: 0.6657 - accuracy: 0.6944 - val_loss: 0.9496 - val_accuracy: 0.5625\n",
      "Epoch 3/40\n",
      "12/12 [==============================] - 21s 2s/step - loss: 0.8665 - accuracy: 0.6611 - val_loss: 0.7961 - val_accuracy: 0.5938\n",
      "Epoch 4/40\n",
      "12/12 [==============================] - 23s 2s/step - loss: 0.6554 - accuracy: 0.6510 - val_loss: 0.6732 - val_accuracy: 0.5938\n",
      "Epoch 5/40\n",
      "12/12 [==============================] - 22s 2s/step - loss: 0.6406 - accuracy: 0.6722 - val_loss: 0.6356 - val_accuracy: 0.6562\n",
      "Epoch 6/40\n",
      "12/12 [==============================] - 31s 3s/step - loss: 0.7105 - accuracy: 0.7056 - val_loss: 0.6957 - val_accuracy: 0.6562\n",
      "Epoch 7/40\n",
      "12/12 [==============================] - 30s 3s/step - loss: 0.6925 - accuracy: 0.6944 - val_loss: 0.6840 - val_accuracy: 0.5938\n",
      "Epoch 8/40\n",
      "12/12 [==============================] - 24s 2s/step - loss: 0.6530 - accuracy: 0.6778 - val_loss: 0.6648 - val_accuracy: 0.6250\n",
      "Epoch 9/40\n",
      "12/12 [==============================] - 19s 2s/step - loss: 0.6336 - accuracy: 0.7083 - val_loss: 0.8365 - val_accuracy: 0.5938\n",
      "Epoch 10/40\n",
      "12/12 [==============================] - 20s 2s/step - loss: 0.6550 - accuracy: 0.6778 - val_loss: 0.7033 - val_accuracy: 0.5938\n",
      "Epoch 11/40\n",
      "12/12 [==============================] - 23s 2s/step - loss: 0.6368 - accuracy: 0.6510 - val_loss: 0.7791 - val_accuracy: 0.5625\n",
      "Epoch 12/40\n",
      "12/12 [==============================] - 19s 2s/step - loss: 0.6898 - accuracy: 0.6250 - val_loss: 0.6725 - val_accuracy: 0.5938\n",
      "Epoch 13/40\n",
      " 3/12 [======>.......................] - ETA: 5s - loss: 0.6314 - accuracy: 0.6389"
     ]
    }
   ],
   "source": [
    "STEP_SIZE_TRAIN = nb_train_samples // batch_size\n",
    "STEP_SIZE_VALID = nb_validation_samples // batch_size\n",
    "history = model.fit_generator(\n",
    "    generator = train_generator,\n",
    "    steps_per_epoch=STEP_SIZE_TRAIN,\n",
    "    epochs=epochs,\n",
    "    validation_data=validation_generator,\n",
    "    validation_steps=STEP_SIZE_VALID)"
   ]
  },
  {
   "cell_type": "code",
   "execution_count": null,
   "metadata": {},
   "outputs": [],
   "source": [
    "# history.history['val_accuracy']"
   ]
  },
  {
   "cell_type": "code",
   "execution_count": null,
   "metadata": {},
   "outputs": [],
   "source": [
    "model.evaluate_generator(generator=validation_generator,\n",
    "steps=STEP_SIZE_VALID)"
   ]
  },
  {
   "cell_type": "code",
   "execution_count": null,
   "metadata": {},
   "outputs": [],
   "source": [
    "STEP_SIZE_TEST = 1\n",
    "test_generator.reset()\n",
    "pred=model.predict_generator(test_generator,\n",
    "steps=STEP_SIZE_TEST,\n",
    "verbose=1)"
   ]
  },
  {
   "cell_type": "code",
   "execution_count": null,
   "metadata": {},
   "outputs": [],
   "source": [
    "# pred"
   ]
  },
  {
   "cell_type": "code",
   "execution_count": null,
   "metadata": {},
   "outputs": [],
   "source": [
    "predicted_class_indices=np.argmax(pred,axis=1)\n",
    "predicted_class_indices"
   ]
  },
  {
   "cell_type": "code",
   "execution_count": null,
   "metadata": {},
   "outputs": [],
   "source": [
    "labels = (train_generator.class_indices)\n",
    "labels.keys()\n",
    "target = test_generator.classes"
   ]
  },
  {
   "cell_type": "code",
   "execution_count": null,
   "metadata": {},
   "outputs": [],
   "source": [
    "target"
   ]
  },
  {
   "cell_type": "code",
   "execution_count": null,
   "metadata": {},
   "outputs": [],
   "source": [
    "# labels = dict((v,k) for k,v in labels.items())\n",
    "# predictions = [labels[k] for k in predicted_class_indices]\n"
   ]
  },
  {
   "cell_type": "code",
   "execution_count": null,
   "metadata": {},
   "outputs": [],
   "source": [
    "# predictions"
   ]
  },
  {
   "cell_type": "code",
   "execution_count": null,
   "metadata": {},
   "outputs": [],
   "source": [
    "# filenames=test_generator.filenames\n",
    "# results=pd.DataFrame({\"Filename\":filenames,\n",
    "#                       \"Predictions\":predictions})\n",
    "# results.to_csv(\"results.csv\",index=False)"
   ]
  },
  {
   "cell_type": "code",
   "execution_count": null,
   "metadata": {},
   "outputs": [],
   "source": [
    "import matplotlib.pyplot as plt\n",
    "fig = plt.figure()\n",
    "plt.plot(history.history['val_loss'])\n",
    "plt.legend(['validation'], loc='upper left')\n",
    "plt.title('validation loss vs epoch')\n",
    "plt.ylabel('validation loss')\n",
    "plt.xlabel('Epoch')"
   ]
  },
  {
   "cell_type": "code",
   "execution_count": null,
   "metadata": {},
   "outputs": [],
   "source": [
    "fig = plt.figure()\n",
    "plt.plot(history.history['val_accuracy'])\n",
    "plt.legend(['validation'], loc='upper left')\n",
    "plt.title('validation accuracy vs epoch')\n",
    "plt.ylabel('validation accuracy')\n",
    "plt.xlabel('Epoch')"
   ]
  },
  {
   "cell_type": "code",
   "execution_count": null,
   "metadata": {
    "scrolled": true
   },
   "outputs": [],
   "source": [
    "# validation_generator[1]"
   ]
  },
  {
   "cell_type": "code",
   "execution_count": null,
   "metadata": {},
   "outputs": [],
   "source": [
    "from sklearn.metrics import confusion_matrix , classification_report\n",
    "# len(validation_generator[1])\n",
    "# len(predicted_class_indices)\n",
    "print(\"Classification Report: \\n\", classification_report(target, predicted_class_indices))"
   ]
  },
  {
   "cell_type": "code",
   "execution_count": null,
   "metadata": {},
   "outputs": [],
   "source": [
    "# #Confusion Matrix and Classification Report\n",
    "# Y_pred = model.predict_generator(validation_generator, num_of_test_samples // batch_size+1)\n",
    "# y_pred = np.argmax(Y_pred, axis=1)\n",
    "# print('Confusion Matrix')\n",
    "# print(confusion_matrix(validation_generator.classes, y_pred))\n",
    "# print('Classification Report')\n",
    "# target_names = ['covid', 'normal']\n",
    "# print(classification_report(validation_generator.classes, y_pred, target_names=target_names))"
   ]
  },
  {
   "cell_type": "code",
   "execution_count": null,
   "metadata": {},
   "outputs": [],
   "source": []
  }
 ],
 "metadata": {
  "interpreter": {
   "hash": "fcccc7b9e0429018c410444b41fc09916ab3544e68cfd9bcc8df9f764a1fdba5"
  },
  "kernelspec": {
   "display_name": "Python 3",
   "language": "python",
   "name": "python3"
  },
  "language_info": {
   "codemirror_mode": {
    "name": "ipython",
    "version": 3
   },
   "file_extension": ".py",
   "mimetype": "text/x-python",
   "name": "python",
   "nbconvert_exporter": "python",
   "pygments_lexer": "ipython3",
   "version": "3.8.8"
  }
 },
 "nbformat": 4,
 "nbformat_minor": 2
}
