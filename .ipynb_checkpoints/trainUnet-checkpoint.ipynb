{
 "cells": [
  {
   "cell_type": "code",
   "execution_count": 1,
   "metadata": {},
   "outputs": [
    {
     "ename": "ModuleNotFoundError",
     "evalue": "No module named 'keras'",
     "output_type": "error",
     "traceback": [
      "\u001b[1;31m---------------------------------------------------------------------------\u001b[0m",
      "\u001b[1;31mModuleNotFoundError\u001b[0m                       Traceback (most recent call last)",
      "\u001b[1;32m<ipython-input-1-5bceb26a93d4>\u001b[0m in \u001b[0;36m<module>\u001b[1;34m\u001b[0m\n\u001b[1;32m----> 1\u001b[1;33m \u001b[1;32mfrom\u001b[0m \u001b[0mmodel\u001b[0m \u001b[1;32mimport\u001b[0m \u001b[1;33m*\u001b[0m\u001b[1;33m\u001b[0m\u001b[1;33m\u001b[0m\u001b[0m\n\u001b[0m\u001b[0;32m      2\u001b[0m \u001b[1;32mfrom\u001b[0m \u001b[0mdata\u001b[0m \u001b[1;32mimport\u001b[0m \u001b[1;33m*\u001b[0m\u001b[1;33m\u001b[0m\u001b[1;33m\u001b[0m\u001b[0m\n",
      "\u001b[1;32m~\\Downloads\\CS 7000\\Final report\\u-net-code\\unet-for-covid-detection\\model.py\u001b[0m in \u001b[0;36m<module>\u001b[1;34m\u001b[0m\n\u001b[0;32m      4\u001b[0m \u001b[1;32mimport\u001b[0m \u001b[0mskimage\u001b[0m\u001b[1;33m.\u001b[0m\u001b[0mtransform\u001b[0m \u001b[1;32mas\u001b[0m \u001b[0mtrans\u001b[0m\u001b[1;33m\u001b[0m\u001b[1;33m\u001b[0m\u001b[0m\n\u001b[0;32m      5\u001b[0m \u001b[1;32mimport\u001b[0m \u001b[0mnumpy\u001b[0m \u001b[1;32mas\u001b[0m \u001b[0mnp\u001b[0m\u001b[1;33m\u001b[0m\u001b[1;33m\u001b[0m\u001b[0m\n\u001b[1;32m----> 6\u001b[1;33m \u001b[1;32mfrom\u001b[0m \u001b[0mkeras\u001b[0m\u001b[1;33m.\u001b[0m\u001b[0mmodels\u001b[0m \u001b[1;32mimport\u001b[0m \u001b[1;33m*\u001b[0m\u001b[1;33m\u001b[0m\u001b[1;33m\u001b[0m\u001b[0m\n\u001b[0m\u001b[0;32m      7\u001b[0m \u001b[1;32mfrom\u001b[0m \u001b[0mkeras\u001b[0m\u001b[1;33m.\u001b[0m\u001b[0mlayers\u001b[0m \u001b[1;32mimport\u001b[0m \u001b[1;33m*\u001b[0m\u001b[1;33m\u001b[0m\u001b[1;33m\u001b[0m\u001b[0m\n\u001b[0;32m      8\u001b[0m \u001b[1;32mfrom\u001b[0m \u001b[0mkeras\u001b[0m\u001b[1;33m.\u001b[0m\u001b[0moptimizers\u001b[0m \u001b[1;32mimport\u001b[0m \u001b[1;33m*\u001b[0m\u001b[1;33m\u001b[0m\u001b[1;33m\u001b[0m\u001b[0m\n",
      "\u001b[1;31mModuleNotFoundError\u001b[0m: No module named 'keras'"
     ]
    }
   ],
   "source": [
    "from model import *\n",
    "from data import *"
   ]
  },
  {
   "cell_type": "markdown",
   "metadata": {},
   "source": [
    "## Train your Unet with membrane data\n",
    "membrane data is in folder membrane/, it is a binary classification task.\n",
    "\n",
    "The input shape of image and mask are the same :(batch_size,rows,cols,channel = 1)"
   ]
  },
  {
   "cell_type": "markdown",
   "metadata": {},
   "source": [
    "### Train with data generator"
   ]
  },
  {
   "cell_type": "code",
   "execution_count": 3,
   "metadata": {},
   "outputs": [
    {
     "name": "stderr",
     "output_type": "stream",
     "text": [
      "C:\\Users\\prast\\AppData\\Local\\Programs\\Python\\Python39\\lib\\site-packages\\keras\\optimizer_v2\\adam.py:105: UserWarning: The `lr` argument is deprecated, use `learning_rate` instead.\n",
      "  super(Adam, self).__init__(name, **kwargs)\n",
      "C:\\Users\\prast\\AppData\\Local\\Temp/ipykernel_23880/3228081962.py:11: UserWarning: `Model.fit_generator` is deprecated and will be removed in a future version. Please use `Model.fit`, which supports generators.\n",
      "  model.fit_generator(myGene,steps_per_epoch=1,epochs=20,callbacks=[model_checkpoint])\n"
     ]
    },
    {
     "name": "stdout",
     "output_type": "stream",
     "text": [
      "Found 100 images belonging to 1 classes.\n",
      "Found 100 images belonging to 1 classes.\n",
      "Epoch 1/20\n",
      "1/1 [==============================] - ETA: 0s - loss: 0.6945 - accuracy: 0.9162\n",
      "Epoch 00001: loss improved from inf to 0.69451, saving model to unet_covid.hdf5\n",
      "1/1 [==============================] - 9s 9s/step - loss: 0.6945 - accuracy: 0.9162\n",
      "Epoch 2/20\n",
      "1/1 [==============================] - ETA: 0s - loss: 0.5998 - accuracy: 0.9486\n",
      "Epoch 00002: loss improved from 0.69451 to 0.59975, saving model to unet_covid.hdf5\n",
      "1/1 [==============================] - 11s 11s/step - loss: 0.5998 - accuracy: 0.9486\n",
      "Epoch 3/20\n",
      "1/1 [==============================] - ETA: 0s - loss: 0.2316 - accuracy: 0.9739\n",
      "Epoch 00003: loss improved from 0.59975 to 0.23161, saving model to unet_covid.hdf5\n",
      "1/1 [==============================] - 7s 7s/step - loss: 0.2316 - accuracy: 0.9739\n",
      "Epoch 4/20\n",
      "1/1 [==============================] - ETA: 0s - loss: 0.1172 - accuracy: 0.9872\n",
      "Epoch 00004: loss improved from 0.23161 to 0.11725, saving model to unet_covid.hdf5\n",
      "1/1 [==============================] - 7s 7s/step - loss: 0.1172 - accuracy: 0.9872\n",
      "Epoch 5/20\n",
      "1/1 [==============================] - ETA: 0s - loss: 0.1515 - accuracy: 0.9699\n",
      "Epoch 00005: loss did not improve from 0.11725\n",
      "1/1 [==============================] - 6s 6s/step - loss: 0.1515 - accuracy: 0.9699\n",
      "Epoch 6/20\n",
      "1/1 [==============================] - ETA: 0s - loss: 0.2322 - accuracy: 0.9736\n",
      "Epoch 00006: loss did not improve from 0.11725\n",
      "1/1 [==============================] - 6s 6s/step - loss: 0.2322 - accuracy: 0.9736\n",
      "Epoch 7/20\n",
      "1/1 [==============================] - ETA: 0s - loss: 0.4388 - accuracy: 0.9599\n",
      "Epoch 00007: loss did not improve from 0.11725\n",
      "1/1 [==============================] - 7s 7s/step - loss: 0.4388 - accuracy: 0.9599\n",
      "Epoch 8/20\n",
      "1/1 [==============================] - ETA: 0s - loss: 0.2422 - accuracy: 0.9655\n",
      "Epoch 00008: loss did not improve from 0.11725\n",
      "1/1 [==============================] - 6s 6s/step - loss: 0.2422 - accuracy: 0.9655\n",
      "Epoch 9/20\n",
      "1/1 [==============================] - ETA: 0s - loss: 0.6840 - accuracy: 0.8605\n",
      "Epoch 00009: loss did not improve from 0.11725\n",
      "1/1 [==============================] - 7s 7s/step - loss: 0.6840 - accuracy: 0.8605\n",
      "Epoch 10/20\n",
      "1/1 [==============================] - ETA: 0s - loss: 0.2411 - accuracy: 0.9708\n",
      "Epoch 00010: loss did not improve from 0.11725\n",
      "1/1 [==============================] - 6s 6s/step - loss: 0.2411 - accuracy: 0.9708\n",
      "Epoch 11/20\n",
      "1/1 [==============================] - ETA: 0s - loss: 0.3317 - accuracy: 0.9642\n",
      "Epoch 00011: loss did not improve from 0.11725\n",
      "1/1 [==============================] - 6s 6s/step - loss: 0.3317 - accuracy: 0.9642\n",
      "Epoch 12/20\n",
      "1/1 [==============================] - ETA: 0s - loss: 0.2494 - accuracy: 0.9292\n",
      "Epoch 00012: loss did not improve from 0.11725\n",
      "1/1 [==============================] - 7s 7s/step - loss: 0.2494 - accuracy: 0.9292\n",
      "Epoch 13/20\n",
      "1/1 [==============================] - ETA: 0s - loss: 0.1223 - accuracy: 0.9872\n",
      "Epoch 00013: loss did not improve from 0.11725\n",
      "1/1 [==============================] - 6s 6s/step - loss: 0.1223 - accuracy: 0.9872\n",
      "Epoch 14/20\n",
      "1/1 [==============================] - ETA: 0s - loss: 0.3032 - accuracy: 0.9840\n",
      "Epoch 00014: loss did not improve from 0.11725\n",
      "1/1 [==============================] - 6s 6s/step - loss: 0.3032 - accuracy: 0.9840\n",
      "Epoch 15/20\n",
      "1/1 [==============================] - ETA: 0s - loss: 0.6919 - accuracy: 0.7974\n",
      "Epoch 00015: loss did not improve from 0.11725\n",
      "1/1 [==============================] - 6s 6s/step - loss: 0.6919 - accuracy: 0.7974\n",
      "Epoch 16/20\n",
      "1/1 [==============================] - ETA: 0s - loss: 0.6929 - accuracy: 0.7744\n",
      "Epoch 00016: loss did not improve from 0.11725\n",
      "1/1 [==============================] - 6s 6s/step - loss: 0.6929 - accuracy: 0.7744\n",
      "Epoch 17/20\n",
      "1/1 [==============================] - ETA: 0s - loss: 0.2135 - accuracy: 0.9845\n",
      "Epoch 00017: loss did not improve from 0.11725\n",
      "1/1 [==============================] - 6s 6s/step - loss: 0.2135 - accuracy: 0.9845\n",
      "Epoch 18/20\n",
      "1/1 [==============================] - ETA: 0s - loss: 0.2243 - accuracy: 0.9939\n",
      "Epoch 00018: loss did not improve from 0.11725\n",
      "1/1 [==============================] - 6s 6s/step - loss: 0.2243 - accuracy: 0.9939\n",
      "Epoch 19/20\n",
      "1/1 [==============================] - ETA: 0s - loss: 0.3187 - accuracy: 0.9167\n",
      "Epoch 00019: loss did not improve from 0.11725\n",
      "1/1 [==============================] - 7s 7s/step - loss: 0.3187 - accuracy: 0.9167\n",
      "Epoch 20/20\n",
      "1/1 [==============================] - ETA: 0s - loss: 0.2836 - accuracy: 0.9630\n",
      "Epoch 00020: loss did not improve from 0.11725\n",
      "1/1 [==============================] - 7s 7s/step - loss: 0.2836 - accuracy: 0.9630\n"
     ]
    },
    {
     "data": {
      "text/plain": [
       "<keras.callbacks.History at 0x25c690f76d0>"
      ]
     },
     "execution_count": 3,
     "metadata": {},
     "output_type": "execute_result"
    }
   ],
   "source": [
    "data_gen_args = dict(rotation_range=0.2,\n",
    "                    width_shift_range=0.05,\n",
    "                    height_shift_range=0.05,\n",
    "                    shear_range=0.05,\n",
    "                    zoom_range=0.05,\n",
    "                    horizontal_flip=True,\n",
    "                    fill_mode='nearest')\n",
    "myGene = trainGenerator(1,'dataset/datas/','allimages','allmasks',data_gen_args,save_to_dir = None)\n",
    "model = unet()\n",
    "model_checkpoint = ModelCheckpoint('unet_covid.hdf5', monitor='loss',verbose=1, save_best_only=True)\n",
    "model.fit_generator(myGene,steps_per_epoch=1,epochs=20,callbacks=[model_checkpoint])"
   ]
  },
  {
   "cell_type": "code",
   "execution_count": 4,
   "metadata": {},
   "outputs": [
    {
     "name": "stdout",
     "output_type": "stream",
     "text": [
      "Model: \"model\"\n",
      "__________________________________________________________________________________________________\n",
      " Layer (type)                   Output Shape         Param #     Connected to                     \n",
      "==================================================================================================\n",
      " input_1 (InputLayer)           [(None, 512, 512, 1  0           []                               \n",
      "                                )]                                                                \n",
      "                                                                                                  \n",
      " conv2d (Conv2D)                (None, 512, 512, 64  640         ['input_1[0][0]']                \n",
      "                                )                                                                 \n",
      "                                                                                                  \n",
      " conv2d_1 (Conv2D)              (None, 512, 512, 64  36928       ['conv2d[0][0]']                 \n",
      "                                )                                                                 \n",
      "                                                                                                  \n",
      " max_pooling2d (MaxPooling2D)   (None, 256, 256, 64  0           ['conv2d_1[0][0]']               \n",
      "                                )                                                                 \n",
      "                                                                                                  \n",
      " conv2d_2 (Conv2D)              (None, 256, 256, 12  73856       ['max_pooling2d[0][0]']          \n",
      "                                8)                                                                \n",
      "                                                                                                  \n",
      " conv2d_3 (Conv2D)              (None, 256, 256, 12  147584      ['conv2d_2[0][0]']               \n",
      "                                8)                                                                \n",
      "                                                                                                  \n",
      " max_pooling2d_1 (MaxPooling2D)  (None, 128, 128, 12  0          ['conv2d_3[0][0]']               \n",
      "                                8)                                                                \n",
      "                                                                                                  \n",
      " conv2d_4 (Conv2D)              (None, 128, 128, 25  295168      ['max_pooling2d_1[0][0]']        \n",
      "                                6)                                                                \n",
      "                                                                                                  \n",
      " conv2d_5 (Conv2D)              (None, 128, 128, 25  590080      ['conv2d_4[0][0]']               \n",
      "                                6)                                                                \n",
      "                                                                                                  \n",
      " max_pooling2d_2 (MaxPooling2D)  (None, 64, 64, 256)  0          ['conv2d_5[0][0]']               \n",
      "                                                                                                  \n",
      " conv2d_6 (Conv2D)              (None, 64, 64, 512)  1180160     ['max_pooling2d_2[0][0]']        \n",
      "                                                                                                  \n",
      " conv2d_7 (Conv2D)              (None, 64, 64, 512)  2359808     ['conv2d_6[0][0]']               \n",
      "                                                                                                  \n",
      " dropout (Dropout)              (None, 64, 64, 512)  0           ['conv2d_7[0][0]']               \n",
      "                                                                                                  \n",
      " max_pooling2d_3 (MaxPooling2D)  (None, 32, 32, 512)  0          ['dropout[0][0]']                \n",
      "                                                                                                  \n",
      " conv2d_8 (Conv2D)              (None, 32, 32, 1024  4719616     ['max_pooling2d_3[0][0]']        \n",
      "                                )                                                                 \n",
      "                                                                                                  \n",
      " conv2d_9 (Conv2D)              (None, 32, 32, 1024  9438208     ['conv2d_8[0][0]']               \n",
      "                                )                                                                 \n",
      "                                                                                                  \n",
      " dropout_1 (Dropout)            (None, 32, 32, 1024  0           ['conv2d_9[0][0]']               \n",
      "                                )                                                                 \n",
      "                                                                                                  \n",
      " up_sampling2d (UpSampling2D)   (None, 64, 64, 1024  0           ['dropout_1[0][0]']              \n",
      "                                )                                                                 \n",
      "                                                                                                  \n",
      " conv2d_10 (Conv2D)             (None, 64, 64, 512)  2097664     ['up_sampling2d[0][0]']          \n",
      "                                                                                                  \n",
      " concatenate (Concatenate)      (None, 64, 64, 1024  0           ['dropout[0][0]',                \n",
      "                                )                                 'conv2d_10[0][0]']              \n",
      "                                                                                                  \n",
      " conv2d_11 (Conv2D)             (None, 64, 64, 512)  4719104     ['concatenate[0][0]']            \n",
      "                                                                                                  \n",
      " conv2d_12 (Conv2D)             (None, 64, 64, 512)  2359808     ['conv2d_11[0][0]']              \n",
      "                                                                                                  \n",
      " up_sampling2d_1 (UpSampling2D)  (None, 128, 128, 51  0          ['conv2d_12[0][0]']              \n",
      "                                2)                                                                \n",
      "                                                                                                  \n",
      " conv2d_13 (Conv2D)             (None, 128, 128, 25  524544      ['up_sampling2d_1[0][0]']        \n",
      "                                6)                                                                \n",
      "                                                                                                  \n",
      " concatenate_1 (Concatenate)    (None, 128, 128, 51  0           ['conv2d_5[0][0]',               \n",
      "                                2)                                'conv2d_13[0][0]']              \n",
      "                                                                                                  \n",
      " conv2d_14 (Conv2D)             (None, 128, 128, 25  1179904     ['concatenate_1[0][0]']          \n",
      "                                6)                                                                \n",
      "                                                                                                  \n",
      " conv2d_15 (Conv2D)             (None, 128, 128, 25  590080      ['conv2d_14[0][0]']              \n",
      "                                6)                                                                \n",
      "                                                                                                  \n",
      " up_sampling2d_2 (UpSampling2D)  (None, 256, 256, 25  0          ['conv2d_15[0][0]']              \n",
      "                                6)                                                                \n",
      "                                                                                                  \n",
      " conv2d_16 (Conv2D)             (None, 256, 256, 12  131200      ['up_sampling2d_2[0][0]']        \n",
      "                                8)                                                                \n",
      "                                                                                                  \n",
      " concatenate_2 (Concatenate)    (None, 256, 256, 25  0           ['conv2d_3[0][0]',               \n",
      "                                6)                                'conv2d_16[0][0]']              \n",
      "                                                                                                  \n",
      " conv2d_17 (Conv2D)             (None, 256, 256, 12  295040      ['concatenate_2[0][0]']          \n",
      "                                8)                                                                \n",
      "                                                                                                  \n",
      " conv2d_18 (Conv2D)             (None, 256, 256, 12  147584      ['conv2d_17[0][0]']              \n",
      "                                8)                                                                \n",
      "                                                                                                  \n",
      " up_sampling2d_3 (UpSampling2D)  (None, 512, 512, 12  0          ['conv2d_18[0][0]']              \n",
      "                                8)                                                                \n",
      "                                                                                                  \n",
      " conv2d_19 (Conv2D)             (None, 512, 512, 64  32832       ['up_sampling2d_3[0][0]']        \n",
      "                                )                                                                 \n",
      "                                                                                                  \n",
      " concatenate_3 (Concatenate)    (None, 512, 512, 12  0           ['conv2d_1[0][0]',               \n",
      "                                8)                                'conv2d_19[0][0]']              \n",
      "                                                                                                  \n",
      " conv2d_20 (Conv2D)             (None, 512, 512, 64  73792       ['concatenate_3[0][0]']          \n",
      "                                )                                                                 \n",
      "                                                                                                  \n",
      " conv2d_21 (Conv2D)             (None, 512, 512, 64  36928       ['conv2d_20[0][0]']              \n",
      "                                )                                                                 \n",
      "                                                                                                  \n",
      " conv2d_22 (Conv2D)             (None, 512, 512, 2)  1154        ['conv2d_21[0][0]']              \n",
      "                                                                                                  \n",
      " conv2d_23 (Conv2D)             (None, 512, 512, 1)  3           ['conv2d_22[0][0]']              \n",
      "                                                                                                  \n",
      "==================================================================================================\n",
      "Total params: 31,031,685\n",
      "Trainable params: 31,031,685\n",
      "Non-trainable params: 0\n",
      "__________________________________________________________________________________________________\n"
     ]
    }
   ],
   "source": [
    "model.summary()"
   ]
  },
  {
   "cell_type": "markdown",
   "metadata": {},
   "source": [
    "### test your model and save predicted results"
   ]
  },
  {
   "cell_type": "code",
   "execution_count": 3,
   "metadata": {},
   "outputs": [
    {
     "name": "stderr",
     "output_type": "stream",
     "text": [
      "C:\\Users\\prast\\AppData\\Local\\Temp/ipykernel_26744/3189175099.py:4: UserWarning: `Model.predict_generator` is deprecated and will be removed in a future version. Please use `Model.predict`, which supports generators.\n",
      "  results = model.predict_generator(testGene,10,verbose=1)\n"
     ]
    },
    {
     "name": "stdout",
     "output_type": "stream",
     "text": [
      "10/10 [==============================] - 20s 2s/step\n"
     ]
    }
   ],
   "source": [
    "testGene = testGenerator(\"dataset/alltest/\")\n",
    "model = unet()\n",
    "model.load_weights(\"unet_covid.hdf5\")\n",
    "results = model.predict_generator(testGene,10,verbose=1)\n",
    "# saveResult(\"dataset/alltest\",results)"
   ]
  },
  {
   "cell_type": "code",
   "execution_count": 4,
   "metadata": {},
   "outputs": [
    {
     "data": {
      "text/plain": [
       "(10, 512, 512, 1)"
      ]
     },
     "execution_count": 4,
     "metadata": {},
     "output_type": "execute_result"
    }
   ],
   "source": [
    "results.shape"
   ]
  },
  {
   "cell_type": "code",
   "execution_count": 5,
   "metadata": {},
   "outputs": [],
   "source": [
    "import matplotlib.pyplot as plt\n"
   ]
  },
  {
   "cell_type": "code",
   "execution_count": 6,
   "metadata": {},
   "outputs": [],
   "source": [
    "plt.imsave('predict-0.jpg',results[0,:,:,0],cmap=\"gray\")"
   ]
  },
  {
   "cell_type": "code",
   "execution_count": 7,
   "metadata": {},
   "outputs": [
    {
     "data": {
      "text/plain": [
       "<matplotlib.image.AxesImage at 0x211804f2850>"
      ]
     },
     "execution_count": 7,
     "metadata": {},
     "output_type": "execute_result"
    },
    {
     "data": {
      "image/png": "[encoded data removed]",
      "text/plain": [
       "<Figure size 432x288 with 1 Axes>"
      ]
     },
     "metadata": {
      "needs_background": "light"
     },
     "output_type": "display_data"
    }
   ],
   "source": [
    "plt.imshow(results[0,:,:,:])"
   ]
  },
  {
   "cell_type": "code",
   "execution_count": 8,
   "metadata": {},
   "outputs": [
    {
     "data": {
      "text/plain": [
       "<matplotlib.image.AxesImage at 0x211806c29d0>"
      ]
     },
     "execution_count": 8,
     "metadata": {},
     "output_type": "execute_result"
    },
    {
     "data": {
      "image/png": "[encoded data removed]",
      "text/plain": [
       "<Figure size 432x288 with 1 Axes>"
      ]
     },
     "metadata": {
      "needs_background": "light"
     },
     "output_type": "display_data"
    }
   ],
   "source": [
    "plt.imshow(results[1,:,:,:])"
   ]
  },
  {
   "cell_type": "code",
   "execution_count": 9,
   "metadata": {},
   "outputs": [
    {
     "data": {
      "text/plain": [
       "(512, 512, 1)"
      ]
     },
     "execution_count": 9,
     "metadata": {},
     "output_type": "execute_result"
    }
   ],
   "source": [
    "results[0,:,:,:].shape\n",
    "\n"
   ]
  },
  {
   "cell_type": "code",
   "execution_count": 1,
   "metadata": {},
   "outputs": [
    {
     "ename": "NameError",
     "evalue": "name 'model' is not defined",
     "output_type": "error",
     "traceback": [
      "\u001b[1;31m---------------------------------------------------------------------------\u001b[0m",
      "\u001b[1;31mNameError\u001b[0m                                 Traceback (most recent call last)",
      "\u001b[1;32m~\\AppData\\Local\\Temp/ipykernel_23880/3470139634.py\u001b[0m in \u001b[0;36m<module>\u001b[1;34m\u001b[0m\n\u001b[1;32m----> 1\u001b[1;33m \u001b[0mmodel\u001b[0m\u001b[1;33m.\u001b[0m\u001b[0msummary\u001b[0m\u001b[1;33m(\u001b[0m\u001b[1;33m)\u001b[0m\u001b[1;33m\u001b[0m\u001b[1;33m\u001b[0m\u001b[0m\n\u001b[0m",
      "\u001b[1;31mNameError\u001b[0m: name 'model' is not defined"
     ]
    }
   ],
   "source": [
    "model.summary()"
   ]
  }
 ],
 "metadata": {
  "kernelspec": {
   "display_name": "Python 3",
   "language": "python",
   "name": "python3"
  },
  "language_info": {
   "codemirror_mode": {
    "name": "ipython",
    "version": 3
   },
   "file_extension": ".py",
   "mimetype": "text/x-python",
   "name": "python",
   "nbconvert_exporter": "python",
   "pygments_lexer": "ipython3",
   "version": "3.8.8"
  }
 },
 "nbformat": 4,
 "nbformat_minor": 2
}
